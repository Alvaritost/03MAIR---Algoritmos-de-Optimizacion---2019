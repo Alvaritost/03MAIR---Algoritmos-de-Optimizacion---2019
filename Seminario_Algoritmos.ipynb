{
  "nbformat": 4,
  "nbformat_minor": 0,
  "metadata": {
    "colab": {
      "name": "Seminario - Algoritmos.ipynb",
      "provenance": [],
      "collapsed_sections": [],
      "include_colab_link": true
    },
    "kernelspec": {
      "name": "python3",
      "display_name": "Python 3"
    }
  },
  "cells": [
    {
      "cell_type": "markdown",
      "metadata": {
        "id": "view-in-github",
        "colab_type": "text"
      },
      "source": [
        "<a href=\"https://colab.research.google.com/github/Alvaritost/03MAIR---Algoritmos-de-Optimizacion---2019/blob/master/Seminario_Algoritmos.ipynb\" target=\"_parent\"><img src=\"https://colab.research.google.com/assets/colab-badge.svg\" alt=\"Open In Colab\"/></a>"
      ]
    },
    {
      "cell_type": "markdown",
      "metadata": {
        "id": "hVbXYX-RfPWh",
        "colab_type": "text"
      },
      "source": [
        "# Algoritmos de optimización - Seminario<br>\n",
        "Nombre y Apellidos: Álvaro Sáez Tonda  <br>\n",
        "Url: https://github.com/.../03MAIR---Algoritmos-de-Optimizacion---2019/tree/master/SEMINARIO<br>\n",
        "Url de google colaboratory: https://colab.research.google.com/drive/1NVFHsnmrE-wFLX8y1SC3tKlh2et5FOz8 <br>\n",
        "Problema:\n",
        "> Organizar los horarios de partidos de La Liga<br>\n",
        "\n",
        "Descripción del problema:\n",
        "\n",
        "Desde la La Liga de fútbol profesional se pretende organizar los horarios de los partidos de liga de cada jornada. Se conocen algunos datos que nos deben llevar a diseñar un algoritmo que realice la asignación de los partidos a los horarios de forma que maximice la audiencia.                                 "
      ]
    },
    {
      "cell_type": "markdown",
      "metadata": {
        "id": "1kGCRmqHlifx",
        "colab_type": "text"
      },
      "source": [
        "------------------------"
      ]
    },
    {
      "cell_type": "markdown",
      "metadata": {
        "id": "S5fuDs8rdd7n",
        "colab_type": "text"
      },
      "source": [
        "¿Cuántas posibilidades hay sin tener en cuenta las restricciones?<br>"
      ]
    },
    {
      "cell_type": "markdown",
      "metadata": {
        "id": "GieB-aU_kfyk",
        "colab_type": "text"
      },
      "source": [
        "#### Respuesta"
      ]
    },
    {
      "cell_type": "markdown",
      "metadata": {
        "id": "gC8TuV9Hkp5C",
        "colab_type": "text"
      },
      "source": [
        "Restricciones en este problema podríamos considerar las diferentes cantidades de equipos por categoría, porque, si bien no tendría sentido tener cualquier cantidad de equipos para cada catedoría, sí sería mucho mejor en términos de audiencia que todos los equipos que jugasen fuesen de primera o tuviesen los mismos datos de audiencia aunque tuviesen distinta categoría para maximizar dicho valor. Lo mismo ocurre con que diferentes horarios tengan datos de audiencia diferentes, lo cual restirnge mucho más las posibilidades de hacer combinaciones. Y por último, las coincidencias suponen una restricción ya que no multiplicas por dos el valor de dos partidos de tipo A un sábado a las 20 h, sino que tienes que medir si las coincidencias te compensan para no escoger otra opción que, sin escoger coincidencias, te devuelva un mejor valor de audiencia.\n",
        "En el caso en que no hubiesen restricciones habría 10^3 posibilidades de formar combinaciones de equipo válidas (10 partidos y como exponente el número de categorías posibles, exponencial), esas serían las combinaciones de partidos A-A, A-B, A-C, B-B, B-c y C-C. Y la combinatoria de todos estos con los diferentes horarios sería de 10! (como todos los horarios tendrían el mismo valor de audiencia la coincidencia de partidos no tendría sentido), 10 posibilidades sin ningún tipo de inconveniente para cada partido, con lo que la complejidad total combina lo exponencial con lo factorial, y sería de 1000*10!, lo cual hace inviable el problema sin restricciones, y mucho más sio pretendiéramos resolverlo mediante fuerza bruta."
      ]
    },
    {
      "cell_type": "markdown",
      "metadata": {
        "id": "1xfbtZPmlk8h",
        "colab_type": "text"
      },
      "source": [
        "-----"
      ]
    },
    {
      "cell_type": "markdown",
      "metadata": {
        "id": "3_-exlrTgLd-",
        "colab_type": "text"
      },
      "source": [
        "¿Cuantas posibilidades hay teniendo en cuenta todas las restricciones?\n",
        "\n",
        "\n"
      ]
    },
    {
      "cell_type": "markdown",
      "metadata": {
        "id": "WfCUqJyKhPcw",
        "colab_type": "text"
      },
      "source": [
        "Respuesta"
      ]
    },
    {
      "cell_type": "markdown",
      "metadata": {
        "id": "Wbz7AOtwkwB9",
        "colab_type": "text"
      },
      "source": [
        "Teniendo en cuenta que tenemos limitados el número de equipos para la jornada ell conjunto de posibilidades de diferentes partidos es 28. En los siguientes códigos se expone un algoritmo que las calcula todas:"
      ]
    },
    {
      "cell_type": "code",
      "metadata": {
        "id": "iq6Fe32MgpDX",
        "colab_type": "code",
        "colab": {}
      },
      "source": [
        "B=10  #Definimos las cantidades de equipos por categoría. Hay que tener en cuenta para leer los comentarios de los códigos siguientes que la opción final a la que vamos a recurrir por número de posibilidades de solución es un método heurístico, y la resolución (que no será la óptima, pero que en cualquier caso devolverá un buen resultado) se hará mediante una función que se expondrá más adelante llamada \"funcionheuristica()\".\n",
        "A=4\n",
        "C=6"
      ],
      "execution_count": 0,
      "outputs": []
    },
    {
      "cell_type": "code",
      "metadata": {
        "id": "4JyCE_3Smxdu",
        "colab_type": "code",
        "colab": {}
      },
      "source": [
        "def vector2(a,b,c,d,g): #vector2() es una función que crea los vectores de ceros y unos que representan los partidos de tipo A, B y C, que permitirán corresponderse en en combequipos con sus letras de forma que\n",
        "# generen todas las posibles listas de partidos (28) que luego se probarán en funcionheuristica para sacar la mejor combinación. La única entrada necesaria para esta función son 4 ceros y una lista vacía. \n",
        "# Se tiene en cuenta en esta función que solo puede haber dos parejas de partidos de tipo A, y si se rompe una pareja ambos equipos han de buscar contrincante en tipo B o tipo C, (1 y 2 respectivamente).\n",
        "# Y si se rompen todas las parejas de tipo A todas tienen que buscar contrincante en B y C.\n",
        "    if c==d:\n",
        "        if d==0:\n",
        "            g.append([a,b,c,d])\n",
        "            d+=1\n",
        "            c+=1\n",
        "            return vector2(a,b,c,d,g)\n",
        "        elif d==2:\n",
        "            if b==0:\n",
        "                g.append([a,b,c,d])\n",
        "                a+=1\n",
        "                b+=1\n",
        "                c=d=1\n",
        "                return vector2(a,b,c,d,g)\n",
        "            elif b==2:\n",
        "                g.append([a,b,c,d])\n",
        "                a+=1\n",
        "                g.append([a,b,c,d])\n",
        "                return g\n",
        "            else:\n",
        "                g.append([a,b,c,d])\n",
        "                b+=1\n",
        "                return vector2(a,b,c,d,g)\n",
        "        else:\n",
        "            g.append([a,b,c,d])\n",
        "            d+=1\n",
        "            return vector2(a,b,c,d,g)\n",
        "    elif c!=d:\n",
        "        g.append([a,b,c,d])\n",
        "        c+=1\n",
        "        return vector2(a,b,c,d,g)"
      ],
      "execution_count": 0,
      "outputs": []
    },
    {
      "cell_type": "code",
      "metadata": {
        "id": "RFCpoJ-5m5dD",
        "colab_type": "code",
        "colab": {}
      },
      "source": [
        "def vectorseg(lista, l, g, j): #vectorseg() realiza la misma función que vector2, solo que genera vectores de 1s y 2s para las combinaciones que quedan entre los equipos de tipo B (1) y los de tipo C(2), puesto que las combinaciones para ambas categorías con A ya están cubiertas con vector2(). \"l\" ha de ser la longitd de la lista de partidos de tipo \"C\"\n",
        "    if lista.count(1)%2!=0: #Aquí al inicio se evalúa si vector2() ha escogido una combinación de partidos de A en la que tanto los partidos de B como de C sean impares, por ejemplo: A-A, A-B y A-C, de esta forma los dos comnjuntos restantes (B y C) quedan con numero de equipos impar, y esta primera instancia relaciona un B con un C en un mismo partido inevitablemente para romper con esta asimetría.\n",
        "        lista[0]=2\n",
        "        l-=1\n",
        "        h=lista.copy()\n",
        "        g.append(h)\n",
        "        j+=1\n",
        "        return vectorseg(lista, l, g, j)\n",
        "    else: #Si no ocurre lo anterior y el número de partidos disponibles es par se procede a combinar todas las posibilades de partidos de B consigo mismo y con C.\n",
        "        if j==0:\n",
        "            h=lista.copy()\n",
        "            g.append(h)\n",
        "        else:\n",
        "            j-=1\n",
        "        lista[primero(lista)]=lista[primero(lista)]=2 #Como la lista de posibles partidos va a ir variando y ha de incluir tanto partidos de B consigo mismo como de B con C se utiliza la función primero para saber cuál es el primer elemento de la lista de partidos de B que ha de enfrentarse a un partido de C en cada iteración.\n",
        "        l-=2\n",
        "        if l==0:\n",
        "            h=lista.copy()\n",
        "            g.append(h)\n",
        "            return g\n",
        "        else:\n",
        "            return vectorseg(lista, l, g, j)"
      ],
      "execution_count": 0,
      "outputs": []
    },
    {
      "cell_type": "code",
      "metadata": {
        "id": "bA0hSrukm8tW",
        "colab_type": "code",
        "colab": {}
      },
      "source": [
        "def primero(lista): #Esta función es muy útil para vectorseg para saber desde que punto de la nueva posible lista de partidos empezar a convertir a partidos con equipos de tipo C.\n",
        "    for i in range(len(lista)):\n",
        "        if lista[i]==1:\n",
        "            return i\n",
        "        else:\n",
        "            continue"
      ],
      "execution_count": 0,
      "outputs": []
    },
    {
      "cell_type": "code",
      "metadata": {
        "id": "QRbOeFGrnA4-",
        "colab_type": "code",
        "colab": {}
      },
      "source": [
        "def enteros(listacompletaletras): #enteros es una función de la que se alimenta vectorseg() y que devuelve el vector de unos que hay (dependiente de la cantidad de equipos de categoría B)\n",
        "    a=('1 '*len(listacompletaletras[1])).split(' ')[:-1]\n",
        "    for i in range(len(a)):\n",
        "        a[i]=int(a[i])\n",
        "    return a"
      ],
      "execution_count": 0,
      "outputs": []
    },
    {
      "cell_type": "code",
      "metadata": {
        "id": "vTdDOTskmvRB",
        "colab_type": "code",
        "colab": {}
      },
      "source": [
        "def combequipos(p): #En esta función se realacionan todos los vectores con sus respectivas letras de tipo de partido para dar todas las posibilidades de jornada de partidos, de forma que luego, en funcionheuristica se puedan evaluar y devolver la mejor.\n",
        "    h=p\n",
        "    g=[]\n",
        "    for i in range(len(h)): \n",
        "        if h[i].count(0)==2:\n",
        "            k=1\n",
        "        else:\n",
        "            k=0\n",
        "        j=[]\n",
        "        listaA=A*'A '.split(' ')[::2]\n",
        "        listaB=B*'B '.split(' ')[::2]\n",
        "        listaC=C*'C '.split(' ')[::2]\n",
        "        listacompletaletras=[listaA, listaB, listaC]\n",
        "        while len(listacompletaletras[0])!=0:\n",
        "            a=0\n",
        "            b=0\n",
        "            a=listacompletaletras[0][0]\n",
        "            listacompletaletras[0].remove(a)\n",
        "            b=listacompletaletras[h[i][k]][0]\n",
        "            listacompletaletras[h[i][k]].remove(b)\n",
        "            j.append([a,b])\n",
        "            k+=1\n",
        "        o=vectorseg(enteros(listacompletaletras), len(listacompletaletras[2]), [], 0)\n",
        "        m=len(listacompletaletras[1])\n",
        "        n=len(listacompletaletras[2])\n",
        "        for i in range(len(o)):\n",
        "            d=j.copy()\n",
        "            k=0\n",
        "            listacompletaletras[1]=m*'B '.split(' ')[::2]\n",
        "            listacompletaletras[2]=n*'C '.split(' ')[::2]\n",
        "            while len(listacompletaletras[1])!=0:\n",
        "                c=0\n",
        "                e=0\n",
        "                c=listacompletaletras[1][0]\n",
        "                listacompletaletras[1].remove(c)\n",
        "                e=listacompletaletras[o[i][k]][0]\n",
        "                listacompletaletras[o[i][k]].remove(e)\n",
        "                d.append([c,e])\n",
        "                k+=1\n",
        "            while len(listacompletaletras[2])!=0:\n",
        "                c=0\n",
        "                e=0\n",
        "                c=listacompletaletras[2][0]\n",
        "                listacompletaletras[2].remove(c)\n",
        "                e=listacompletaletras[2][0]\n",
        "                listacompletaletras[2].remove(e)\n",
        "                d.append([c,e])\n",
        "            g.append(d)\n",
        "    return g"
      ],
      "execution_count": 0,
      "outputs": []
    },
    {
      "cell_type": "code",
      "metadata": {
        "id": "j_V8NLnqndY0",
        "colab_type": "code",
        "outputId": "a69c30bf-f381-49cd-b4e6-05fbe87bd250",
        "colab": {
          "base_uri": "https://localhost:8080/",
          "height": 1000
        }
      },
      "source": [
        "combequipos(vector2(0,0,0,0,[])) #Esta es la lista con todas las posibilidades teniendo en cuenta las restricciones."
      ],
      "execution_count": 18,
      "outputs": [
        {
          "output_type": "execute_result",
          "data": {
            "text/plain": [
              "[[['A', 'A'],\n",
              "  ['A', 'A'],\n",
              "  ['B', 'B'],\n",
              "  ['B', 'B'],\n",
              "  ['B', 'B'],\n",
              "  ['B', 'B'],\n",
              "  ['B', 'B'],\n",
              "  ['C', 'C'],\n",
              "  ['C', 'C'],\n",
              "  ['C', 'C']],\n",
              " [['A', 'A'],\n",
              "  ['A', 'A'],\n",
              "  ['B', 'C'],\n",
              "  ['B', 'C'],\n",
              "  ['B', 'B'],\n",
              "  ['B', 'B'],\n",
              "  ['B', 'B'],\n",
              "  ['B', 'B'],\n",
              "  ['C', 'C'],\n",
              "  ['C', 'C']],\n",
              " [['A', 'A'],\n",
              "  ['A', 'A'],\n",
              "  ['B', 'C'],\n",
              "  ['B', 'C'],\n",
              "  ['B', 'C'],\n",
              "  ['B', 'C'],\n",
              "  ['B', 'B'],\n",
              "  ['B', 'B'],\n",
              "  ['B', 'B'],\n",
              "  ['C', 'C']],\n",
              " [['A', 'A'],\n",
              "  ['A', 'A'],\n",
              "  ['B', 'C'],\n",
              "  ['B', 'C'],\n",
              "  ['B', 'C'],\n",
              "  ['B', 'C'],\n",
              "  ['B', 'C'],\n",
              "  ['B', 'C'],\n",
              "  ['B', 'B'],\n",
              "  ['B', 'B']],\n",
              " [['A', 'A'],\n",
              "  ['A', 'B'],\n",
              "  ['A', 'B'],\n",
              "  ['B', 'B'],\n",
              "  ['B', 'B'],\n",
              "  ['B', 'B'],\n",
              "  ['B', 'B'],\n",
              "  ['C', 'C'],\n",
              "  ['C', 'C'],\n",
              "  ['C', 'C']],\n",
              " [['A', 'A'],\n",
              "  ['A', 'B'],\n",
              "  ['A', 'B'],\n",
              "  ['B', 'C'],\n",
              "  ['B', 'C'],\n",
              "  ['B', 'B'],\n",
              "  ['B', 'B'],\n",
              "  ['B', 'B'],\n",
              "  ['C', 'C'],\n",
              "  ['C', 'C']],\n",
              " [['A', 'A'],\n",
              "  ['A', 'B'],\n",
              "  ['A', 'B'],\n",
              "  ['B', 'C'],\n",
              "  ['B', 'C'],\n",
              "  ['B', 'C'],\n",
              "  ['B', 'C'],\n",
              "  ['B', 'B'],\n",
              "  ['B', 'B'],\n",
              "  ['C', 'C']],\n",
              " [['A', 'A'],\n",
              "  ['A', 'B'],\n",
              "  ['A', 'B'],\n",
              "  ['B', 'C'],\n",
              "  ['B', 'C'],\n",
              "  ['B', 'C'],\n",
              "  ['B', 'C'],\n",
              "  ['B', 'C'],\n",
              "  ['B', 'C'],\n",
              "  ['B', 'B']],\n",
              " [['A', 'A'],\n",
              "  ['A', 'B'],\n",
              "  ['A', 'C'],\n",
              "  ['B', 'C'],\n",
              "  ['B', 'B'],\n",
              "  ['B', 'B'],\n",
              "  ['B', 'B'],\n",
              "  ['B', 'B'],\n",
              "  ['C', 'C'],\n",
              "  ['C', 'C']],\n",
              " [['A', 'A'],\n",
              "  ['A', 'B'],\n",
              "  ['A', 'C'],\n",
              "  ['B', 'C'],\n",
              "  ['B', 'C'],\n",
              "  ['B', 'C'],\n",
              "  ['B', 'B'],\n",
              "  ['B', 'B'],\n",
              "  ['B', 'B'],\n",
              "  ['C', 'C']],\n",
              " [['A', 'A'],\n",
              "  ['A', 'B'],\n",
              "  ['A', 'C'],\n",
              "  ['B', 'C'],\n",
              "  ['B', 'C'],\n",
              "  ['B', 'C'],\n",
              "  ['B', 'C'],\n",
              "  ['B', 'C'],\n",
              "  ['B', 'B'],\n",
              "  ['B', 'B']],\n",
              " [['A', 'A'],\n",
              "  ['A', 'C'],\n",
              "  ['A', 'C'],\n",
              "  ['B', 'B'],\n",
              "  ['B', 'B'],\n",
              "  ['B', 'B'],\n",
              "  ['B', 'B'],\n",
              "  ['B', 'B'],\n",
              "  ['C', 'C'],\n",
              "  ['C', 'C']],\n",
              " [['A', 'A'],\n",
              "  ['A', 'C'],\n",
              "  ['A', 'C'],\n",
              "  ['B', 'C'],\n",
              "  ['B', 'C'],\n",
              "  ['B', 'B'],\n",
              "  ['B', 'B'],\n",
              "  ['B', 'B'],\n",
              "  ['B', 'B'],\n",
              "  ['C', 'C']],\n",
              " [['A', 'A'],\n",
              "  ['A', 'C'],\n",
              "  ['A', 'C'],\n",
              "  ['B', 'C'],\n",
              "  ['B', 'C'],\n",
              "  ['B', 'C'],\n",
              "  ['B', 'C'],\n",
              "  ['B', 'B'],\n",
              "  ['B', 'B'],\n",
              "  ['B', 'B']],\n",
              " [['A', 'B'],\n",
              "  ['A', 'B'],\n",
              "  ['A', 'B'],\n",
              "  ['A', 'B'],\n",
              "  ['B', 'B'],\n",
              "  ['B', 'B'],\n",
              "  ['B', 'B'],\n",
              "  ['C', 'C'],\n",
              "  ['C', 'C'],\n",
              "  ['C', 'C']],\n",
              " [['A', 'B'],\n",
              "  ['A', 'B'],\n",
              "  ['A', 'B'],\n",
              "  ['A', 'B'],\n",
              "  ['B', 'C'],\n",
              "  ['B', 'C'],\n",
              "  ['B', 'B'],\n",
              "  ['B', 'B'],\n",
              "  ['C', 'C'],\n",
              "  ['C', 'C']],\n",
              " [['A', 'B'],\n",
              "  ['A', 'B'],\n",
              "  ['A', 'B'],\n",
              "  ['A', 'B'],\n",
              "  ['B', 'C'],\n",
              "  ['B', 'C'],\n",
              "  ['B', 'C'],\n",
              "  ['B', 'C'],\n",
              "  ['B', 'B'],\n",
              "  ['C', 'C']],\n",
              " [['A', 'B'],\n",
              "  ['A', 'B'],\n",
              "  ['A', 'B'],\n",
              "  ['A', 'B'],\n",
              "  ['B', 'C'],\n",
              "  ['B', 'C'],\n",
              "  ['B', 'C'],\n",
              "  ['B', 'C'],\n",
              "  ['B', 'C'],\n",
              "  ['B', 'C']],\n",
              " [['A', 'B'],\n",
              "  ['A', 'B'],\n",
              "  ['A', 'B'],\n",
              "  ['A', 'C'],\n",
              "  ['B', 'C'],\n",
              "  ['B', 'B'],\n",
              "  ['B', 'B'],\n",
              "  ['B', 'B'],\n",
              "  ['C', 'C'],\n",
              "  ['C', 'C']],\n",
              " [['A', 'B'],\n",
              "  ['A', 'B'],\n",
              "  ['A', 'B'],\n",
              "  ['A', 'C'],\n",
              "  ['B', 'C'],\n",
              "  ['B', 'C'],\n",
              "  ['B', 'C'],\n",
              "  ['B', 'B'],\n",
              "  ['B', 'B'],\n",
              "  ['C', 'C']],\n",
              " [['A', 'B'],\n",
              "  ['A', 'B'],\n",
              "  ['A', 'B'],\n",
              "  ['A', 'C'],\n",
              "  ['B', 'C'],\n",
              "  ['B', 'C'],\n",
              "  ['B', 'C'],\n",
              "  ['B', 'C'],\n",
              "  ['B', 'C'],\n",
              "  ['B', 'B']],\n",
              " [['A', 'B'],\n",
              "  ['A', 'B'],\n",
              "  ['A', 'C'],\n",
              "  ['A', 'C'],\n",
              "  ['B', 'B'],\n",
              "  ['B', 'B'],\n",
              "  ['B', 'B'],\n",
              "  ['B', 'B'],\n",
              "  ['C', 'C'],\n",
              "  ['C', 'C']],\n",
              " [['A', 'B'],\n",
              "  ['A', 'B'],\n",
              "  ['A', 'C'],\n",
              "  ['A', 'C'],\n",
              "  ['B', 'C'],\n",
              "  ['B', 'C'],\n",
              "  ['B', 'B'],\n",
              "  ['B', 'B'],\n",
              "  ['B', 'B'],\n",
              "  ['C', 'C']],\n",
              " [['A', 'B'],\n",
              "  ['A', 'B'],\n",
              "  ['A', 'C'],\n",
              "  ['A', 'C'],\n",
              "  ['B', 'C'],\n",
              "  ['B', 'C'],\n",
              "  ['B', 'C'],\n",
              "  ['B', 'C'],\n",
              "  ['B', 'B'],\n",
              "  ['B', 'B']],\n",
              " [['A', 'B'],\n",
              "  ['A', 'C'],\n",
              "  ['A', 'C'],\n",
              "  ['A', 'C'],\n",
              "  ['B', 'C'],\n",
              "  ['B', 'B'],\n",
              "  ['B', 'B'],\n",
              "  ['B', 'B'],\n",
              "  ['B', 'B'],\n",
              "  ['C', 'C']],\n",
              " [['A', 'B'],\n",
              "  ['A', 'C'],\n",
              "  ['A', 'C'],\n",
              "  ['A', 'C'],\n",
              "  ['B', 'C'],\n",
              "  ['B', 'C'],\n",
              "  ['B', 'C'],\n",
              "  ['B', 'B'],\n",
              "  ['B', 'B'],\n",
              "  ['B', 'B']],\n",
              " [['A', 'C'],\n",
              "  ['A', 'C'],\n",
              "  ['A', 'C'],\n",
              "  ['A', 'C'],\n",
              "  ['B', 'B'],\n",
              "  ['B', 'B'],\n",
              "  ['B', 'B'],\n",
              "  ['B', 'B'],\n",
              "  ['B', 'B'],\n",
              "  ['C', 'C']],\n",
              " [['A', 'C'],\n",
              "  ['A', 'C'],\n",
              "  ['A', 'C'],\n",
              "  ['A', 'C'],\n",
              "  ['B', 'C'],\n",
              "  ['B', 'C'],\n",
              "  ['B', 'B'],\n",
              "  ['B', 'B'],\n",
              "  ['B', 'B'],\n",
              "  ['B', 'B']]]"
            ]
          },
          "metadata": {
            "tags": []
          },
          "execution_count": 18
        }
      ]
    },
    {
      "cell_type": "markdown",
      "metadata": {
        "id": "CrorXEuKntbA",
        "colab_type": "text"
      },
      "source": [
        "Además, las restricciones de diferentes valores de audiencia por horario hacen más complejo la determinación de la complejidad de la solución, porque en teoría siguen siendo 10!, pero no todas las combinaciones interesan, y más teniendo en cuenta la variable de la coincidencia, que ahora sí que está presente. No obstante, se ha determinado como regla para mi resolución que, debido a la caída de audiencia a partir de los tres equipos en un mismo horario, esta situación no se dará nunca, con lo que reducimos las posibilidades enormemente pero dificultamos su determinación exacta.\n",
        "Por ese motivo, y como augurábamos, la resolución del problema para obtener un óptimo, que realmente no será óptimo sino buena solución, será mediante métodos heurísticos."
      ]
    },
    {
      "cell_type": "markdown",
      "metadata": {
        "id": "EQ0k-MTFlrrw",
        "colab_type": "text"
      },
      "source": [
        "----------------------"
      ]
    },
    {
      "cell_type": "markdown",
      "metadata": {
        "id": "dzynfVJahHoY",
        "colab_type": "text"
      },
      "source": [
        "Modelo para el espacio de soluciones<br>\n",
        "¿Cual es la estructura de datos que mejor se adapta al problema?\n"
      ]
    },
    {
      "cell_type": "markdown",
      "metadata": {
        "id": "xFIJrOwKi2Ti",
        "colab_type": "text"
      },
      "source": [
        "Respuesta"
      ]
    },
    {
      "cell_type": "markdown",
      "metadata": {
        "id": "120s7XUBovsf",
        "colab_type": "text"
      },
      "source": [
        "No he cambiado en ningún momento de opinión. Desde el principio he trabajado con listas tanto para combinaciones de partidos como para vectores que representan tales combinaciones. La indexación es una de las operaciones más necesarias para mí en la resolución de este problema mediante algoritmos. Y, pese a que otras estructuras de datos permiten el trabajo con indexación, estoy más familiarizado al uso de listas. Utilizando los equipos y el día del partido con formato string y la hora como entero."
      ]
    },
    {
      "cell_type": "markdown",
      "metadata": {
        "id": "VlV0Btb4lwWW",
        "colab_type": "text"
      },
      "source": [
        "-----------------"
      ]
    },
    {
      "cell_type": "markdown",
      "metadata": {
        "id": "7Z9U2W7bi-XS",
        "colab_type": "text"
      },
      "source": [
        "Según el modelo para el espacio de soluciones<br>\n",
        "¿Cual es la función objetivo?"
      ]
    },
    {
      "cell_type": "markdown",
      "metadata": {
        "id": "hBalWLM7j1_d",
        "colab_type": "text"
      },
      "source": [
        "Respuesta"
      ]
    },
    {
      "cell_type": "markdown",
      "metadata": {
        "id": "0nrV2I4epZyL",
        "colab_type": "text"
      },
      "source": [
        "La que evalúa la combinación de partidos (equipos y horarios) que le devuelve el algoritmo y que hay que maximizar para llegar a la mejor audiencia posible."
      ]
    },
    {
      "cell_type": "markdown",
      "metadata": {
        "id": "H0Fo1pyilyaL",
        "colab_type": "text"
      },
      "source": [
        "----------"
      ]
    },
    {
      "cell_type": "markdown",
      "metadata": {
        "id": "w3PRGMImpZ-J",
        "colab_type": "text"
      },
      "source": [
        "¿Es un problema de maximización o minimización?"
      ]
    },
    {
      "cell_type": "markdown",
      "metadata": {
        "id": "_BCdd2xeprKz",
        "colab_type": "text"
      },
      "source": [
        "Respuesta"
      ]
    },
    {
      "cell_type": "markdown",
      "metadata": {
        "id": "AMx4wuxBpcl5",
        "colab_type": "text"
      },
      "source": [
        "Es claramente un problema de maximización de la audiencia de la jornada."
      ]
    },
    {
      "cell_type": "markdown",
      "metadata": {
        "id": "yUmJ6Ja_l0gN",
        "colab_type": "text"
      },
      "source": [
        "-------------"
      ]
    },
    {
      "cell_type": "markdown",
      "metadata": {
        "id": "rlnTYgY1j6I2",
        "colab_type": "text"
      },
      "source": [
        "Diseña un algoritmo para resolver el problema por fuerza bruta"
      ]
    },
    {
      "cell_type": "markdown",
      "metadata": {
        "id": "70rDgxYXkC8r",
        "colab_type": "text"
      },
      "source": [
        "Respuesta"
      ]
    },
    {
      "cell_type": "markdown",
      "metadata": {
        "id": "ZQGlo93prjS-",
        "colab_type": "text"
      },
      "source": [
        "Un algoritmo por fuerza bruta debería analizar todas las posibilidades de combinación de partidos (las 28 mostradas anteriormente, dehecho el algoritmo que las muestra se podría decir que tiene bastantes bucles anidados y explora todas las posibilidades por fuerza bruta) y luego todas estas posibilidades de combinación de equipos con todos los posibles horarios, las 10!, lo que haría inviable su realización, puesto que son demasiadas."
      ]
    },
    {
      "cell_type": "markdown",
      "metadata": {
        "id": "H5ItPJlllX24",
        "colab_type": "text"
      },
      "source": [
        "-------------------"
      ]
    },
    {
      "cell_type": "markdown",
      "metadata": {
        "id": "tgrnsC2nkFa8",
        "colab_type": "text"
      },
      "source": [
        "Calcula la complejidad del algoritmo por fuerza bruta"
      ]
    },
    {
      "cell_type": "markdown",
      "metadata": {
        "id": "9eUd3xwckP68",
        "colab_type": "text"
      },
      "source": [
        "Respuesta"
      ]
    },
    {
      "cell_type": "markdown",
      "metadata": {
        "id": "XdEDDmNqr80d",
        "colab_type": "text"
      },
      "source": [
        "28*10!, sin tener en cuenta las coincidencias, si las tenemos en cuenta este valor podría multiplicarse por cada combinación de dos partidos en una misma hora (10!^2)."
      ]
    },
    {
      "cell_type": "markdown",
      "metadata": {
        "id": "iSXK1_kUl5GI",
        "colab_type": "text"
      },
      "source": [
        "------------------"
      ]
    },
    {
      "cell_type": "markdown",
      "metadata": {
        "id": "txbrmLmskReM",
        "colab_type": "text"
      },
      "source": [
        "Diseña un algoritmo que mejore la complejidad del algortimo por fuerza bruta. Argumenta porque crees que mejora el algoritmo por fuerza bruta"
      ]
    },
    {
      "cell_type": "markdown",
      "metadata": {
        "id": "hLrVwt5QkZPD",
        "colab_type": "text"
      },
      "source": [
        "Respuesta"
      ]
    },
    {
      "cell_type": "markdown",
      "metadata": {
        "id": "kyFdX1_QsgD8",
        "colab_type": "text"
      },
      "source": [
        "Como veníamos contando, expongo aquí el algoritmo heurístico que lo resuelve:"
      ]
    },
    {
      "cell_type": "code",
      "metadata": {
        "id": "gkg9VeYXthJ_",
        "colab_type": "code",
        "colab": {}
      },
      "source": [
        "import numpy as np\n",
        "import random"
      ],
      "execution_count": 0,
      "outputs": []
    },
    {
      "cell_type": "code",
      "metadata": {
        "id": "m1eyM21Vkabg",
        "colab_type": "code",
        "colab": {}
      },
      "source": [
        "def audiencia(a,b,d,h,j): #Toma los datos de entrada (equipo \"a\", \"b\", día, hora).\n",
        "    if a==b=='A':\n",
        "        return diayhora(d,h,j)*2 #En función de ellos llama a la función dia y hora para multiplicar los coeficientes pertinentes.\n",
        "    elif a==b=='B':\n",
        "        return diayhora(d,h,j)*0.9\n",
        "    elif a==b=='C':\n",
        "        return diayhora(d,h,j)*0.47\n",
        "    elif ((a=='A')&(b=='B'))|((a=='B')&(b=='A')):\n",
        "        return diayhora(d,h,j)*1.3\n",
        "    elif ((a=='A')&(b=='C'))|((a=='C')&(b=='A')):\n",
        "        return diayhora(d,h,j)*1\n",
        "    elif ((a=='B')&(b=='C'))|((a=='C')&(b=='B')):\n",
        "        return diayhora(d,h,j)*0.75"
      ],
      "execution_count": 0,
      "outputs": []
    },
    {
      "cell_type": "code",
      "metadata": {
        "id": "pcPULbNbwE2y",
        "colab_type": "code",
        "colab": {}
      },
      "source": [
        "def diayhora(d,h,j): #Calcula (también teniendo en cuenta coincidencias (j)) el valor de audiencia según el horario.\n",
        "    if (d=='v')|(d=='l'):\n",
        "        return coincidencias(j)*0.4\n",
        "    elif d=='s':\n",
        "        if h==12:\n",
        "            return coincidencias(j)*0.55\n",
        "        elif h==16:\n",
        "            return coincidencias(j)*0.7\n",
        "        elif h==18:\n",
        "            return coincidencias(j)*0.8\n",
        "        else:\n",
        "            return coincidencias(j)*1\n",
        "    else:\n",
        "        if h==12:\n",
        "            return coincidencias(j)*0.45\n",
        "        elif h==16:\n",
        "            return coincidencias(j)*0.75\n",
        "        elif h==18:\n",
        "            return coincidencias(j)*0.5\n",
        "        else:\n",
        "            return coincidencias(j)*1"
      ],
      "execution_count": 0,
      "outputs": []
    },
    {
      "cell_type": "code",
      "metadata": {
        "id": "at0KrOekwJSR",
        "colab_type": "code",
        "colab": {}
      },
      "source": [
        "def coincidencias(j): #La función que evalúa las coincidencias.\n",
        "    if j==0:\n",
        "        return 1\n",
        "    elif j==1:\n",
        "        return 0.75\n",
        "    elif j==2:\n",
        "        return 0.55\n",
        "    elif j==3:\n",
        "        return 0.4\n",
        "    elif j==4:\n",
        "        return 0.3\n",
        "    elif j==5:\n",
        "        return 0.25\n",
        "    elif j==6:\n",
        "        return 0.22\n",
        "    elif j==7:\n",
        "        return 0.2\n",
        "    else:\n",
        "        return 0.2"
      ],
      "execution_count": 0,
      "outputs": []
    },
    {
      "cell_type": "code",
      "metadata": {
        "id": "B-eVwUgus2uP",
        "colab_type": "code",
        "colab": {}
      },
      "source": [
        "def calculador(f): #Función que, introduciendo la combinación de partidos, te devuelve la audiencia total, con coincidencias.\n",
        "    h=[]\n",
        "    r=[]\n",
        "    k=[]\n",
        "    for i in f: #Bucles que evalúan las coincidencias dentro de la lista de combinaciones de partidos.\n",
        "        if h.count(i[2:])>0:\n",
        "            h.append(i[2:])\n",
        "            r.append(i[2:])\n",
        "        else:\n",
        "            h.append(i[2:])\n",
        "    for i in f:\n",
        "        if i[2:] in r:\n",
        "            j=r.count(i[2:]) #Se utiliza \"j\" para contabilizar el número de coincidencias y reflejarlo en la función de audiencia.\n",
        "        else:\n",
        "            j=0\n",
        "        k.append(audiencia(i[0], i[1], i[2], i[3], j)) #La función de audiencia evalúa cada componente del vector del partido (el equipo \"a\", el equipo \"b\", el día de partido y la hora, y si hay coincidencias o no).\n",
        "    return sum(k)"
      ],
      "execution_count": 0,
      "outputs": []
    },
    {
      "cell_type": "code",
      "metadata": {
        "id": "RdfIpB6Ss5me",
        "colab_type": "code",
        "colab": {}
      },
      "source": [
        "#Algoritmo heurístico. Utiliza un generador de vectores aleatorio que le dota del componente heurístico.\n",
        "def funcionheuristica(N, e, p): #Con \"N\" se pueden especificar todas las iteraciones que la función aleatoria que provee el componente heurístico ha de hacer (cantidad de vectores aleatorios) para tener la suficiente seguridad de que devolverá un valor final con un valor de audiencia razonablemente alto.\n",
        "    v=[['v', 20], ['s', 20], ['s', 18], ['s', 16], ['s', 12], ['d', 12], ['d', 16], ['d', 18], ['d', 20], ['l', 20]] #Vector con todas las posibilidades de horario.\n",
        "    l=aleatorio(N, []) #\"l\" es el componente heurístico.\n",
        "    if p==len(combequipos(vector2(0,0,0,0,[]))): #Utilizamos este conglomerado de funciones (ver comentarios de combequipos() y vector2() para analizar todas las posibilidades de jornada de partidos (28 posibilidades en total))\n",
        "        return e #Cuando el coeficiente \"p\" ha pasado por todas las posibles combinaciones de partidos devuelve la solución final, que es la máxima de todas las que ha manejado.\n",
        "    else:\n",
        "        for j in range(N):\n",
        "            c=[]\n",
        "            for i in range(len(v)):\n",
        "                m=[]\n",
        "                for k in range(4):\n",
        "                    if k>1:\n",
        "                        m.append(v[l[j][i]][k-2])\n",
        "                    else:\n",
        "                        m.append(combequipos(vector2(0,0,0,0,[]))[p][i][k])    \n",
        "                c.append(m)\n",
        "            k=calculador(c)\n",
        "            if k>e[0]:\n",
        "                e=[k, c]\n",
        "            else:\n",
        "                continue\n",
        "        p+=1 #Este coeficiente va subiendo para evaluar cada posibilidad que nos devuelve combequipos.\n",
        "        return funcionheuristica(N, e, p)"
      ],
      "execution_count": 0,
      "outputs": []
    },
    {
      "cell_type": "code",
      "metadata": {
        "id": "rJ0qu7qTtKr4",
        "colab_type": "code",
        "colab": {}
      },
      "source": [
        "def aleatorio(N, h): #aleatorio() devuelve un conjunto de valores aleatorios con la longitud de la cantidad de partidos (10). De forma que escoge los horarios de manera aleatoria, y le aporta el componente heurístico al algoritmo funcionheuristica. Es cierto que la generación de valores aleatorios no sigue ningún criterio de los vistos en clase (algoritmos genéticos, evolutivos, vecinos...) por falta de tiempo, pero devuelve resultados bastante buenos.\n",
        "    if N==0:\n",
        "        return h\n",
        "    else:\n",
        "        b=np.random.randint(0, 10, 10)\n",
        "        b=list(b)\n",
        "        for i in b:\n",
        "            if b.count(i)>2:\n",
        "                b.remove(i)\n",
        "                b.append(random.choice(range(10)))\n",
        "            else:\n",
        "                continue\n",
        "        N-=1\n",
        "        h.append(b)\n",
        "        return aleatorio(N, h) "
      ],
      "execution_count": 0,
      "outputs": []
    },
    {
      "cell_type": "code",
      "metadata": {
        "id": "y-IkTti2tXwt",
        "colab_type": "code",
        "outputId": "3a8e4959-1d6c-49d4-c8cc-3a99f4aef83c",
        "colab": {
          "base_uri": "https://localhost:8080/",
          "height": 202
        }
      },
      "source": [
        "funcionheuristica(20, [0, []], 0) #Devuelve en primer lugar el valor de la audiencia y luego la combinación de la jornada que se corresponde a tal."
      ],
      "execution_count": 0,
      "outputs": [
        {
          "output_type": "execute_result",
          "data": {
            "text/plain": [
              "[6.860000000000001,\n",
              " [['A', 'A', 'd', 20],\n",
              "  ['A', 'A', 's', 20],\n",
              "  ['B', 'C', 's', 16],\n",
              "  ['B', 'C', 'd', 18],\n",
              "  ['B', 'C', 'd', 16],\n",
              "  ['B', 'C', 's', 18],\n",
              "  ['B', 'B', 'v', 20],\n",
              "  ['B', 'B', 's', 16],\n",
              "  ['B', 'B', 'd', 18],\n",
              "  ['C', 'C', 's', 20]]]"
            ]
          },
          "metadata": {
            "tags": []
          },
          "execution_count": 27
        }
      ]
    },
    {
      "cell_type": "markdown",
      "metadata": {
        "id": "dnw6nIL0tZBC",
        "colab_type": "text"
      },
      "source": [
        "Además, se ha diseñado un algoritmo que realiza la mismas operaciones pero solo devuelve una jornada que supere un dato de audiencia introducido por teclado:"
      ]
    },
    {
      "cell_type": "code",
      "metadata": {
        "id": "41_mPpDVtjDK",
        "colab_type": "code",
        "colab": {}
      },
      "source": [
        "def maximvalor(N, e, p, z): #Función que busca heurísticamente combinaciones de partidos a partir de un límite inferior marcado (\"z\").\n",
        "    x=funcionheuristica(N, e, p) #incluye la funcion herística para sacar los valores aleatoriamente.\n",
        "    if x[0]>z: #los va comparando con el límite inderior marcado, y si es mayor, los imprime por pantalla.\n",
        "        return x\n",
        "    else:\n",
        "        maximvalor(N, e, p, z)"
      ],
      "execution_count": 0,
      "outputs": []
    },
    {
      "cell_type": "code",
      "metadata": {
        "id": "GShJCJwTt4J3",
        "colab_type": "code",
        "colab": {
          "base_uri": "https://localhost:8080/",
          "height": 202
        },
        "outputId": "ded101d9-ab8a-44f0-c210-ab68d33b6f9f"
      },
      "source": [
        "maximvalor(10, [0, []], 0, 7) #Combinación que supera los 7 millones de audiencia."
      ],
      "execution_count": 19,
      "outputs": [
        {
          "output_type": "execute_result",
          "data": {
            "text/plain": [
              "[7.2487499999999985,\n",
              " [['A', 'A', 's', 20],\n",
              "  ['A', 'A', 's', 18],\n",
              "  ['B', 'C', 'd', 20],\n",
              "  ['B', 'C', 'd', 20],\n",
              "  ['B', 'C', 'd', 12],\n",
              "  ['B', 'C', 'd', 12],\n",
              "  ['B', 'C', 's', 12],\n",
              "  ['B', 'C', 'v', 20],\n",
              "  ['B', 'B', 's', 16],\n",
              "  ['B', 'B', 'd', 16]]]"
            ]
          },
          "metadata": {
            "tags": []
          },
          "execution_count": 19
        }
      ]
    },
    {
      "cell_type": "markdown",
      "metadata": {
        "id": "4R8YrgAMl8by",
        "colab_type": "text"
      },
      "source": [
        "------------------------"
      ]
    },
    {
      "cell_type": "markdown",
      "metadata": {
        "id": "eGDB4K6uk1iN",
        "colab_type": "text"
      },
      "source": [
        "Calcula la complejidad del algoritmo "
      ]
    },
    {
      "cell_type": "markdown",
      "metadata": {
        "id": "NhpTh_BPk1ms",
        "colab_type": "text"
      },
      "source": [
        "Respuesta"
      ]
    },
    {
      "cell_type": "markdown",
      "metadata": {
        "id": "94wvmfTX3V2W",
        "colab_type": "text"
      },
      "source": [
        "La complejidad del algoritmo corresponde a las 28 posibilidades de partidos que calcula por fuerza bruta por el número de iteraciones \"N\" que hemos marcado a la entrada de la función por las 10 posibilidades de horario por los 4 elementos de un partido (equipo \"a\", equipo \"b\", día y hora). Hasta aquí correspondería a los tres bucles que hay en el interior de funcion heuristica más la recursividad del mismo, a ello habría que añadir las \"N\" operaciones que hace la funcion \"aleatorio\" para crear las \"N\" listas de valores aleatorios que luego se corresponden con los horarios de los partidos. Con lo que la complejidad total sería: <br>\n",
        "Complejidad = 1120*N^2, que en el caso del ejemplo (N=20) sería 448000."
      ]
    },
    {
      "cell_type": "markdown",
      "metadata": {
        "id": "5aaOHvXGnZaH",
        "colab_type": "text"
      },
      "source": [
        "-------------"
      ]
    },
    {
      "cell_type": "markdown",
      "metadata": {
        "id": "3M6QjTsSkmYe",
        "colab_type": "text"
      },
      "source": [
        "Según el problema (y tenga sentido), diseña un juego de datos de entrada aleatorios"
      ]
    },
    {
      "cell_type": "markdown",
      "metadata": {
        "id": "Jc3_OlyNkvjZ",
        "colab_type": "text"
      },
      "source": [
        "Respuesta"
      ]
    },
    {
      "cell_type": "markdown",
      "metadata": {
        "id": "2cPSVPTjno_j",
        "colab_type": "text"
      },
      "source": [
        "En este problema no veo más sentido de juego de entrada de datos a las 28 posibilidades de partidos sobre los cuales se pueden desarrollar las diferentres posibilidades de combinación con horarios. También se pueden considerar, sobre todo desde el ámbito de la aleatoriedad, la lista de números aleatorios que se ha de corresponder con esos horarios para cada partido."
      ]
    },
    {
      "cell_type": "markdown",
      "metadata": {
        "id": "IRYoIxp4obRg",
        "colab_type": "text"
      },
      "source": [
        "-------"
      ]
    },
    {
      "cell_type": "markdown",
      "metadata": {
        "id": "zy5ZROmjlGo1",
        "colab_type": "text"
      },
      "source": [
        "Aplica el algoritmo al juego de datos generado"
      ]
    },
    {
      "cell_type": "markdown",
      "metadata": {
        "id": "_Cmj-PVylMsa",
        "colab_type": "text"
      },
      "source": [
        "Respuesta"
      ]
    },
    {
      "cell_type": "markdown",
      "metadata": {
        "id": "ovKPFRVNoY2L",
        "colab_type": "text"
      },
      "source": [
        "Ya que se ha adjuntado anteriormente el algoritmo que genera la lista de las 28 posibilidades de partidos, se adjunta a continuación un ejemplo de lista aleatoria de horarios como la que se utiliza dentro de funcionheuristica:"
      ]
    },
    {
      "cell_type": "code",
      "metadata": {
        "id": "Jkx8GeiYlUz1",
        "colab_type": "code",
        "colab": {
          "base_uri": "https://localhost:8080/",
          "height": 1000
        },
        "outputId": "9b4379f0-4318-4a17-f417-3b38a16f240d"
      },
      "source": [
        "v=[['v', 20], ['s', 20], ['s', 18], ['s', 16], ['s', 12], ['d', 12], ['d', 16], ['d', 18], ['d', 20], ['l', 20]]\n",
        "N=20\n",
        "l=aleatorio(N, [])\n",
        "for j in range(N):\n",
        "  for i in range(len(v)):\n",
        "    print(v[l[j][i]])"
      ],
      "execution_count": 5,
      "outputs": [
        {
          "output_type": "stream",
          "text": [
            "['l', 20]\n",
            "['s', 16]\n",
            "['d', 16]\n",
            "['v', 20]\n",
            "['d', 12]\n",
            "['s', 18]\n",
            "['s', 12]\n",
            "['s', 12]\n",
            "['v', 20]\n",
            "['d', 20]\n",
            "['d', 16]\n",
            "['d', 18]\n",
            "['l', 20]\n",
            "['d', 16]\n",
            "['s', 12]\n",
            "['l', 20]\n",
            "['d', 20]\n",
            "['d', 12]\n",
            "['d', 12]\n",
            "['s', 18]\n",
            "['d', 16]\n",
            "['s', 12]\n",
            "['s', 20]\n",
            "['v', 20]\n",
            "['d', 12]\n",
            "['v', 20]\n",
            "['d', 18]\n",
            "['d', 20]\n",
            "['s', 20]\n",
            "['d', 18]\n",
            "['s', 16]\n",
            "['s', 16]\n",
            "['d', 12]\n",
            "['d', 20]\n",
            "['d', 18]\n",
            "['d', 18]\n",
            "['s', 12]\n",
            "['l', 20]\n",
            "['d', 20]\n",
            "['s', 12]\n",
            "['d', 20]\n",
            "['s', 16]\n",
            "['s', 16]\n",
            "['v', 20]\n",
            "['d', 18]\n",
            "['l', 20]\n",
            "['l', 20]\n",
            "['d', 16]\n",
            "['s', 18]\n",
            "['s', 20]\n",
            "['l', 20]\n",
            "['s', 18]\n",
            "['s', 12]\n",
            "['v', 20]\n",
            "['s', 20]\n",
            "['s', 20]\n",
            "['d', 16]\n",
            "['v', 20]\n",
            "['d', 16]\n",
            "['s', 16]\n",
            "['v', 20]\n",
            "['s', 20]\n",
            "['d', 20]\n",
            "['d', 16]\n",
            "['s', 20]\n",
            "['d', 18]\n",
            "['v', 20]\n",
            "['l', 20]\n",
            "['l', 20]\n",
            "['d', 12]\n",
            "['d', 12]\n",
            "['s', 12]\n",
            "['s', 16]\n",
            "['s', 20]\n",
            "['d', 20]\n",
            "['d', 16]\n",
            "['d', 16]\n",
            "['s', 18]\n",
            "['s', 16]\n",
            "['s', 12]\n",
            "['s', 16]\n",
            "['v', 20]\n",
            "['d', 18]\n",
            "['v', 20]\n",
            "['d', 16]\n",
            "['d', 20]\n",
            "['d', 20]\n",
            "['d', 16]\n",
            "['s', 18]\n",
            "['s', 20]\n",
            "['s', 16]\n",
            "['d', 16]\n",
            "['d', 18]\n",
            "['d', 18]\n",
            "['s', 20]\n",
            "['v', 20]\n",
            "['s', 18]\n",
            "['d', 12]\n",
            "['s', 18]\n",
            "['d', 20]\n",
            "['d', 12]\n",
            "['s', 16]\n",
            "['s', 18]\n",
            "['s', 12]\n",
            "['s', 18]\n",
            "['d', 20]\n",
            "['l', 20]\n",
            "['l', 20]\n",
            "['s', 20]\n",
            "['d', 12]\n",
            "['d', 16]\n",
            "['s', 12]\n",
            "['d', 18]\n",
            "['s', 16]\n",
            "['s', 20]\n",
            "['s', 18]\n",
            "['d', 18]\n",
            "['s', 16]\n",
            "['v', 20]\n",
            "['s', 18]\n",
            "['d', 18]\n",
            "['d', 18]\n",
            "['v', 20]\n",
            "['s', 16]\n",
            "['s', 18]\n",
            "['d', 20]\n",
            "['l', 20]\n",
            "['s', 18]\n",
            "['s', 16]\n",
            "['s', 12]\n",
            "['d', 20]\n",
            "['s', 16]\n",
            "['s', 12]\n",
            "['s', 12]\n",
            "['s', 20]\n",
            "['d', 12]\n",
            "['d', 12]\n",
            "['s', 16]\n",
            "['d', 18]\n",
            "['v', 20]\n",
            "['s', 16]\n",
            "['s', 16]\n",
            "['s', 12]\n",
            "['l', 20]\n",
            "['v', 20]\n",
            "['s', 18]\n",
            "['d', 12]\n",
            "['d', 18]\n",
            "['d', 18]\n",
            "['s', 18]\n",
            "['s', 18]\n",
            "['d', 16]\n",
            "['d', 20]\n",
            "['v', 20]\n",
            "['d', 16]\n",
            "['d', 12]\n",
            "['d', 18]\n",
            "['s', 20]\n",
            "['v', 20]\n",
            "['s', 20]\n",
            "['d', 20]\n",
            "['s', 12]\n",
            "['l', 20]\n",
            "['d', 12]\n",
            "['s', 20]\n",
            "['s', 18]\n",
            "['s', 20]\n",
            "['d', 20]\n",
            "['s', 18]\n",
            "['l', 20]\n",
            "['s', 16]\n",
            "['d', 12]\n",
            "['d', 18]\n",
            "['d', 12]\n",
            "['d', 20]\n",
            "['d', 20]\n",
            "['d', 16]\n",
            "['v', 20]\n",
            "['s', 16]\n",
            "['v', 20]\n",
            "['l', 20]\n",
            "['l', 20]\n",
            "['s', 16]\n",
            "['d', 12]\n",
            "['d', 18]\n",
            "['d', 16]\n",
            "['d', 16]\n",
            "['d', 20]\n",
            "['v', 20]\n",
            "['d', 18]\n",
            "['s', 20]\n",
            "['l', 20]\n",
            "['v', 20]\n",
            "['s', 20]\n",
            "['s', 16]\n",
            "['s', 12]\n",
            "['l', 20]\n",
            "['s', 12]\n",
            "['d', 16]\n",
            "['d', 20]\n"
          ],
          "name": "stdout"
        }
      ]
    },
    {
      "cell_type": "markdown",
      "metadata": {
        "id": "9S0b59u2pVIn",
        "colab_type": "text"
      },
      "source": [
        "Toda esta lista de posibilidades de horario aleatorias se combinan con cada una de las 28 combinaciones posibles de partidos dentro de funcionheuristica."
      ]
    },
    {
      "cell_type": "markdown",
      "metadata": {
        "id": "g9h2GRCjpfo-",
        "colab_type": "text"
      },
      "source": [
        "--------------"
      ]
    },
    {
      "cell_type": "markdown",
      "metadata": {
        "colab_type": "text",
        "id": "eTFWUJQrtGcv"
      },
      "source": [
        "Enumera las referencias que has utilizado (si ha sido necesario) para llevar a cabo el trabajo."
      ]
    },
    {
      "cell_type": "markdown",
      "metadata": {
        "id": "YKQ_mRBttWsP",
        "colab_type": "text"
      },
      "source": [
        "Respuesta"
      ]
    },
    {
      "cell_type": "markdown",
      "metadata": {
        "id": "lz3JylsGprK5",
        "colab_type": "text"
      },
      "source": [
        "Las referencias utilizadas han sido:\n",
        "·Videoconferencias de la asignatura *Algoritmos de Optimización* del master en IA de la VIU.\n",
        "·Apuntes de la asignatura *Algoritmos de Optimización* del master en IA de la VIU.\n",
        "·Duarte, A. (2008). Metaheurísticas. Madrid: Dykinson."
      ]
    },
    {
      "cell_type": "markdown",
      "metadata": {
        "id": "0leLWEy4rsI8",
        "colab_type": "text"
      },
      "source": [
        "----------------------"
      ]
    },
    {
      "cell_type": "markdown",
      "metadata": {
        "id": "kAkDPUyRtYyH",
        "colab_type": "text"
      },
      "source": [
        "Describe brevemente las lineas de como crees que es posible avanzar en el estudio del problema. Ten en cuenta incluso posibles variaciones del problema y/o variaciones al alza del tamaño"
      ]
    },
    {
      "cell_type": "markdown",
      "metadata": {
        "id": "IE0uZmo-tZu-",
        "colab_type": "text"
      },
      "source": [
        "Respuesta"
      ]
    },
    {
      "cell_type": "markdown",
      "metadata": {
        "id": "CQzj0EdUrt8-",
        "colab_type": "text"
      },
      "source": [
        "Debido a la naturaleza aleatoria de la resolución (vía heurística), ninguna de las soluciones propuestas se presenta como la óptima, sino la mejor del cúmulo que se genera en cada llamada a la función. Sin embargo es posible mejorar las soluciones generadas mediante *funcionheuristica*. Es posible diseñar algoritmos que, a partir de la combinación de partidos ofrecida por esta función, lleguen al óptimo posible de combinación de horarios en esa jornada. A partir de la exploración de horarios en profundidad por cada partido con respecto a los demás se puede mejorar la cantidad de audiencia hasta en medio millón de personas. A continución se expone un ejemplo de los algoritmos necesarios para hacer este tipo de mejora:"
      ]
    },
    {
      "cell_type": "code",
      "metadata": {
        "id": "kusvWItZsnvN",
        "colab_type": "code",
        "colab": {}
      },
      "source": [
        "def funcion_profundidad_mejorador(f): #Diseñamos también un algoritmo mejorador, que permite mejorar la audiencia con una nueva combinación de los mismos partidos pero en los horarios óptimos. Como se verá, esta función llama a otra que analiza en profundad los posibles nodos. Es capaz de mejorar hasta en 400000 y medio millón de personas la audiencia generada por funcionheuristica, aunque es cierto que para valores altos de este (superiores a 7.3 millones de espectadores) mejora poco los reslutados.\n",
        "    #La función busqueda_en_profundidad (más abajo), hace ese análisis en profundidad para el mínimo valor de audiencia de los partidos de la lista dada.\n",
        "    #Pero para no analizar solo el mínimo global del conjunto, conforme analice un mínimo lo va quitando de la lista para poder desarrollar y evaluar otros mínimos (los de la lista que queda al quitar el mínimo anterior).\n",
        "    s=[0,0] #Es este el vector en donde se guardaran las mejores soluciones, puesto que al final solo imprimirá la que tenga la audiencia más alta.\n",
        "    n=0 #Indicador que comparará vvalores de audiencias, y que en un inicio, será 0.\n",
        "    l=f.copy() #Para no alterar la lista inicial al ir quitando mínimos hacemos una copia y utilizaremos \"l\" para ir haciendo todos los \"removes\".\n",
        "    for i in range(len(f)-2):\n",
        "        u=f.copy() #En el proceso en el que se desarrolla el vector en la función busqueda_en_profundidad la lista va cambiando, con lo que también haremos una copia de ella para que no se vaya alterando, solo la copia, luego cuando se reinicia el bucle vuelve a ser el valor de la lista \"f\" original.\n",
        "        if i!=0:\n",
        "            l.remove(minimo(l)[0]) #En la primera iteración se utiliza el mínimo total, y a partir de la segunda vamos quitando mínimos.\n",
        "        o=busqueda_en_profundidad(u, minimo(l)) #Introducimos en la función la copia (\"u\") de la lista original (\"f\") y nos guarda el valor en \"o\" (ver los comentarios de la función).\n",
        "        if o[0]>n: #El primer valor de \"o\" nos da la audiencia de la combinación de partidos devuelta por busqueda_en _profundidad, y la compara con \"n\".\n",
        "            n=o[0] #Y si es mejor la guarda como \"n\".\n",
        "            s[0]=o[0] #Se guarda la audiencia.\n",
        "            s[1]=o[1] #Se guarda al combinación de partidos.\n",
        "        else:\n",
        "            continue\n",
        "    return s #Devuelve el mejor valor."
      ],
      "execution_count": 0,
      "outputs": []
    },
    {
      "cell_type": "code",
      "metadata": {
        "id": "22DJhZznuGB0",
        "colab_type": "code",
        "colab": {}
      },
      "source": [
        "def busqueda_en_profundidad(g, f): #f es minimo(g), \"g\" es la lista de las combinaciones escogida para mejorar. \n",
        "    j=f[1]\n",
        "    jk=[0,0,0,0] #\"j\" es un vector en el que posteriormente se irán almacenando todas las posibles combinaciones del partido que toque con horarios diferentes.\n",
        "    p=[['s', 20], ['d', 20], ['s', 18], ['d', 16], ['s', 16], ['s', 12], ['d', 18], ['d', 12], ['l', 20], ['v', 20]] #\"p\" son todas las posibilidades de horarios.\n",
        "    for i in range(len(p)):\n",
        "        if p[i]==f[0][2:]: #Evaluamos hasta el horario del mínimo para, a partir de ahí, ir subiendo a horarios con mayor audiencia.\n",
        "            np=i #Se guarda en cuestión el horario del mínimo en \"np\".\n",
        "            break\n",
        "        else:\n",
        "            continue\n",
        "    if f[2]>0: #Si hay coincidencias del mínimo con otro horario de otro partido hay que tenerlo en cuenta poraue si el horario del mínimo cambia subirá el valor de la audiencia del que tenía el mismo horario que él, puesto aue ya no habría coincidencia. El segundo valor de la función minimo(g) te devuelve si hay alguna coincidencia con el horario del mínimo.\n",
        "        a=elotro(g, f[0])\n",
        "        c=audiencia(a[0], a[1], a[2], a[3], 0)\n",
        "        d=audiencia(a[0], a[1], a[2], a[3], 1)\n",
        "        u=c-d #Y conseguimos averiguar la diferencia que tendríamos que sumar a ese otro partido en el mismo horario que el mínimo para poder sumársela cuando evaluemos si nos interesa subir o no a un horario con más audiencia.\n",
        "        k=1 #\"k\" es un coeficiente que utilizaremos luego para garantizar la coincidencia inicial a la hora de calcular audiencias mediante la función audiencia.\n",
        "    else:\n",
        "        u=0 #Si no hay coincidencias con el horario inicial estos valores valen cero.\n",
        "        k=0\n",
        "    jk[:2]=f[0][:2]\n",
        "    for i in range(1,np-1): #Comenzamos el bucle para evaluar todas las posibilidades de ascensos desde el horario inicial del mínimo hasta ptodos los horarios de audiencia superior posibles (descartamos los domingos y sábados a las 20h como posibilidades de ascenso puesto que estadísticamente la función heurística los asigna inmediatamente a los partidos de tipo AA, logrando las mejores combinaciones, con oo que consideramos que esos horarios ya tienen cubiertas las mejores posibilidades).\n",
        "        jk[2:]=p[np-i] #jk, como comentábamos, va a servir para evaluar los dos adversarios del partido con los diferentes horarios por los que va ir evaluando si aumenta o no la audiencia.\n",
        "        if elotronum(g, jk)[0]==0: #Utilizamos la función elotronum (ver comentarios de la función en cuestión), que nos devuelve la cantidad (en cada horario) de \n",
        "            g[f[3]]=jk\n",
        "            return [calculador(g), g] #Si no hay ningún otro partido en el horario en cuestión evidentemente asignamos el nuevo horario al partido con el que pretendemos mejorar, puesto que es un horario con más audiencia y las coincidencias no van a mermar su valor.\n",
        "        elif elotronum(g, jk)[0]==1: #Aquí si que hay que evaluar si interesa o no el cambio, aquí es donde se llevan a cabo los procesos de decisión para saber si asignar o no evaluando si compensa la subida a un horario mejor, donde ya hay otro partido, teniendo en cuenta que la audiencia de ambos bajará por la coincidencia.\n",
        "            if (audiencia(jk[0], jk[1], jk[2], jk[3], 1)-audiencia(f[0][0], f[0][1], f[0][2], f[0][3], k)+u)>0.25*(audiencia(elotronum(g, jk)[1][0][0], elotronum(g, jk)[1][0][1], elotronum(g, jk)[1][0][2], elotronum(g, jk)[1][0][3], 0)):\n",
        "                g[f[3]]=jk\n",
        "                return [calculador(g), g]\n",
        "            else:\n",
        "                continue\n",
        "        elif elotronum(g, jk)[0]==2: #Y por último están los horarios en los que ya hay una coincidencia de dos partidos. En estos casos también puede ser interesante un cambio. Y es lo que se evalúa en la siguiente expresión.\n",
        "            gh=elotronum(g, jk)[1][:2] #Sacamos qué partidos son los que están en coincidencia.\n",
        "            gk=elotronum(g, jk)[1][2:]\n",
        "            if valorpartidojk(jk[:2])>maxmin(valorpartido(gh), valorpartido(gk), 'min', 0): #Evaluamos si el tipo de partido es superior a alguno de los que ya están en ese horario. Porque, si no lo es, no tiene sentido hacer el cambio.\n",
        "                diferencia=(audiencia(g[maxmin(valorpartido(gh), valorpartido(gk), 'min', 1)][0], g[maxmin(valorpartido(gh), valorpartido(gk), 'min', 1)][1], g[maxmin(valorpartido(gh), valorpartido(gk), 'min', 1)][2], g[maxmin(valorpartido(gh), valorpartido(gk), 'min', 1)][3],1))-(audiencia(g[maxmin(valorpartido(gh), valorpartido(gk), 'min', 1)][0], g[maxmin(valorpartido(gh), valorpartido(gk), 'min', 1)][1], p[np-i+1][0], p[np-i+1][1], k))\n",
        "                if (audiencia(jk[0], jk[1], jk[2], jk[3], 1)-audiencia(f[0][0], f[0][1], f[0][2], f[0][3], k)+u)>diferencia: #Por último, evaluamos si nos interesa realizar el cambio comparando lo que gana el partido que queremos subir a ese horario con el que baja con sus respectivas coincidencias. \n",
        "                    g[f[3]]=jk #Si compensa asignamos esos horarios al partido en cuestión.\n",
        "                    g[maxmin(valorpartido(gh), valorpartido(gk), 'min', 1)][2:]=p[np-i+1] #Y bajamos el que estaba en ese horario al horario que tenía el partido que ha subido.\n",
        "                    return [calculador(g), g]\n",
        "                else:\n",
        "                    continue\n",
        "            else:\n",
        "                continue\n",
        "        else:\n",
        "            continue\n",
        "    return [calculador(g), g] #En caso de que no encontrase el algoritmo ningún camino de mejora en los horarios devolvería el mismo valor inicial."
      ],
      "execution_count": 0,
      "outputs": []
    },
    {
      "cell_type": "code",
      "metadata": {
        "id": "U1MqNDYQuItx",
        "colab_type": "code",
        "colab": {}
      },
      "source": [
        "def maxmin(a, b, j, v): #maxmin es una función que evalúa el máximo y el mínimo entre dos partidos cuando están en coincidencia, con la posibilidad de reflejar tanto el valor del máximo o el mínimo como su posición dentro de la lista de partidos. \"v\" te indica si quieres valor o posición del mayor o menor (0 para valor, 1 para posición).\n",
        "    if j=='max':\n",
        "        if a[0]>b[0]:\n",
        "            if v==0:\n",
        "                return a[0]\n",
        "            else:\n",
        "                return a[1]\n",
        "        else:\n",
        "            if v==0:\n",
        "                return b[0]\n",
        "            else:\n",
        "                return b[1]\n",
        "    else:\n",
        "        if a[0]>b[0]:\n",
        "            if v==0:\n",
        "                return b[0]\n",
        "            else:\n",
        "                return b[1]\n",
        "        else:\n",
        "            if v==0:\n",
        "                return a[0]\n",
        "            else:\n",
        "                return a[1]"
      ],
      "execution_count": 0,
      "outputs": []
    },
    {
      "cell_type": "code",
      "metadata": {
        "id": "HZ86zc82uKzC",
        "colab_type": "code",
        "colab": {}
      },
      "source": [
        "def valorpartido(lista): #Comparar valores de partidos para subir de nivel o no cuando hay dos partidos en coincidencia ya en el horario que estás evaluando.\n",
        "    if lista[0][:2]==['A', 'A']:\n",
        "        return 2, lista[1]\n",
        "    elif lista[0][:2]==['A', 'B']:\n",
        "        return 1.3, lista[1]\n",
        "    elif lista[0][:2]==['A', 'C']:\n",
        "        return 1, lista[1]\n",
        "    elif lista[0][:2]==['B', 'B']:\n",
        "        return 0.9, lista[1]\n",
        "    elif lista[0][:2]==['B', 'C']:\n",
        "        return 0.75, lista[1]\n",
        "    else:\n",
        "        return 0.47, lista[1]"
      ],
      "execution_count": 0,
      "outputs": []
    },
    {
      "cell_type": "code",
      "metadata": {
        "id": "OSeeFLpXuMcj",
        "colab_type": "code",
        "colab": {}
      },
      "source": [
        "def valorpartidojk(lista): #Comparar valores de partidos para subir de nivel. Este aporta el valor del partido solo para el que está subiendo de nievel. Necesita otro formato de salida y por eso se ha hecho una función diferente a valorpartido().\n",
        "    if lista[:2]==['A', 'A']:\n",
        "        return 2\n",
        "    elif lista[:2]==['A', 'B']:\n",
        "        return 1.3\n",
        "    elif lista[:2]==['A', 'C']:\n",
        "        return 1\n",
        "    elif lista[:2]==['B', 'B']:\n",
        "        return 0.9\n",
        "    elif lista[:2]==['B', 'C']:\n",
        "        return 0.75\n",
        "    else:\n",
        "        return 0.47"
      ],
      "execution_count": 0,
      "outputs": []
    },
    {
      "cell_type": "code",
      "metadata": {
        "id": "L7WMDlbJuOCO",
        "colab_type": "code",
        "colab": {}
      },
      "source": [
        "def elotro(f, h): #Devuelve el otro partido que coincide con el mínimo. f es es la lista de partidos y h es minimo(lista de partidos)[0]\n",
        "    for i in f:\n",
        "        if i==h:\n",
        "            if f.count(h)>=2:\n",
        "                return i\n",
        "            else:\n",
        "                continue\n",
        "        if i[2:]==h[2:]:\n",
        "            return i\n",
        "        else:\n",
        "            continue"
      ],
      "execution_count": 0,
      "outputs": []
    },
    {
      "cell_type": "code",
      "metadata": {
        "id": "ZgIF-OyyuPnH",
        "colab_type": "code",
        "colab": {}
      },
      "source": [
        "def elotronum(f, l): #Aporta el número de partidos en el mismo horario del que se está evaluanfdo. f es la lista de partidos y l es minimo(lista de partidos)[0], devuelve los elementos iguales y la cantidad de ellos.\n",
        "    h=[]\n",
        "    r=[]\n",
        "    for i in f:\n",
        "        if h.count(i[2:])>0:\n",
        "            h.append(i[2:])\n",
        "            r.append(i[2:])\n",
        "        else:\n",
        "            h.append(i[2:])\n",
        "    for i in range(len(f)):\n",
        "        if l[2:] in h:\n",
        "            j=h.count(l[2:])\n",
        "        else:\n",
        "            j=0\n",
        "    return j, repeticiones(g, l[2:])"
      ],
      "execution_count": 0,
      "outputs": []
    },
    {
      "cell_type": "code",
      "metadata": {
        "id": "99pSXjFyuQ7h",
        "colab_type": "code",
        "colab": {}
      },
      "source": [
        "def repeticiones(g, j): #Para devolver los elementos iguales de la lista\n",
        "    h=[]\n",
        "    for i in range(len(g)):\n",
        "        if g[i][2:]==j:\n",
        "            h.append(g[i])\n",
        "            h.append(i)\n",
        "        else:\n",
        "            continue\n",
        "    return h"
      ],
      "execution_count": 0,
      "outputs": []
    },
    {
      "cell_type": "code",
      "metadata": {
        "id": "v0A9heASuS5a",
        "colab_type": "code",
        "colab": {}
      },
      "source": [
        "def minimo(f): #Función que evalúa cual es el partido con el mínimo de audiencia de la lista. Función similar a calculador().\n",
        "    h=[]\n",
        "    r=[]\n",
        "    k=[0]\n",
        "    o=7.5\n",
        "    for i in f:\n",
        "        if h.count(i[2:])>0:\n",
        "            h.append(i[2:])\n",
        "            r.append(i[2:])\n",
        "        else:\n",
        "            h.append(i[2:])\n",
        "    for i in range(len(f)):\n",
        "        if f[i][2:] in r:\n",
        "            j=r.count(f[i][2:])\n",
        "        else:\n",
        "            j=0\n",
        "        if audiencia(f[i][0], f[i][1], f[i][2], f[i][3], j)<o:\n",
        "            o=audiencia(f[i][0], f[i][1], f[i][2], f[i][3], j)\n",
        "            k=[[f[i][0], f[i][1], f[i][2], f[i][3]], o, j, i]\n",
        "        else:\n",
        "            continue\n",
        "    return k"
      ],
      "execution_count": 0,
      "outputs": []
    },
    {
      "cell_type": "markdown",
      "metadata": {
        "id": "_kRSsiHQumJZ",
        "colab_type": "text"
      },
      "source": [
        "Probamos el algoritmo con los datos generados cuando hemos llamado a *funcionheuristica*:"
      ]
    },
    {
      "cell_type": "code",
      "metadata": {
        "id": "GKWNKckKucJi",
        "colab_type": "code",
        "colab": {
          "base_uri": "https://localhost:8080/",
          "height": 202
        },
        "outputId": "8564098a-2df4-4555-860b-72c1c093c641"
      },
      "source": [
        "g=[['A', 'A', 'd', 20],\n",
        "  ['A', 'A', 's', 20],\n",
        "  ['B', 'C', 's', 16],\n",
        "  ['B', 'C', 'd', 18],\n",
        "  ['B', 'C', 'd', 16],\n",
        "  ['B', 'C', 's', 18],\n",
        "  ['B', 'B', 'v', 20],\n",
        "  ['B', 'B', 's', 16],\n",
        "  ['B', 'B', 'd', 18],\n",
        "  ['C', 'C', 's', 20]]\n",
        "funcion_profundidad_mejorador(g)"
      ],
      "execution_count": 29,
      "outputs": [
        {
          "output_type": "execute_result",
          "data": {
            "text/plain": [
              "[7.103750000000001,\n",
              " [['A', 'A', 'd', 20],\n",
              "  ['A', 'A', 's', 20],\n",
              "  ['B', 'C', 's', 16],\n",
              "  ['B', 'C', 's', 12],\n",
              "  ['B', 'C', 'd', 16],\n",
              "  ['B', 'C', 's', 18],\n",
              "  ['B', 'B', 'v', 20],\n",
              "  ['B', 'B', 's', 16],\n",
              "  ['B', 'B', 'd', 18],\n",
              "  ['C', 'C', 's', 20]]]"
            ]
          },
          "metadata": {
            "tags": []
          },
          "execution_count": 29
        }
      ]
    },
    {
      "cell_type": "markdown",
      "metadata": {
        "id": "Qz3x0vaCuyqu",
        "colab_type": "text"
      },
      "source": [
        "Como se puede comprobar la audiencia sube de 6,86 a 7,1 millones, un aumento de 240000 personas."
      ]
    }
  ]
}