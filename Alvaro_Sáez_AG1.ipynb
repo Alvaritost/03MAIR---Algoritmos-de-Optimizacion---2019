{
  "nbformat": 4,
  "nbformat_minor": 0,
  "metadata": {
    "colab": {
      "name": "Alvaro Sáez - AG1.ipynb",
      "provenance": [],
      "collapsed_sections": [],
      "include_colab_link": true
    },
    "kernelspec": {
      "name": "python3",
      "display_name": "Python 3"
    }
  },
  "cells": [
    {
      "cell_type": "markdown",
      "metadata": {
        "id": "view-in-github",
        "colab_type": "text"
      },
      "source": [
        "<a href=\"https://colab.research.google.com/github/Alvaritost/03MAIR---Algoritmos-de-Optimizacion---2019/blob/master/Alvaro_S%C3%A1ez_AG1.ipynb\" target=\"_parent\"><img src=\"https://colab.research.google.com/assets/colab-badge.svg\" alt=\"Open In Colab\"/></a>"
      ]
    },
    {
      "cell_type": "code",
      "metadata": {
        "id": "_f8hGETyUpEW",
        "colab_type": "code",
        "colab": {}
      },
      "source": [
        ""
      ],
      "execution_count": 0,
      "outputs": []
    },
    {
      "cell_type": "markdown",
      "metadata": {
        "id": "0rbsp-RFVEG1",
        "colab_type": "text"
      },
      "source": [
        "AG1. Algorirmos de Optimización</br>\n",
        "Álvaro Sáez</br>\n",
        "https://colab.research.google.com/drive/1W-Pgk8WGxeO06ojcNnEZH1HLLYcpl-MX"
      ]
    },
    {
      "cell_type": "code",
      "metadata": {
        "id": "XGIgERvHV_mf",
        "colab_type": "code",
        "outputId": "4c663d5c-fefd-45c5-f68e-1e8cfb273fca",
        "colab": {
          "base_uri": "https://localhost:8080/",
          "height": 134
        }
      },
      "source": [
        "def torres(N,desde,hasta):\n",
        "  if N==1:\n",
        "    print('lleva ficha desde', desde, 'hasta', hasta)\n",
        "  else:\n",
        "    torres(N-1,desde,6-desde-hasta)\n",
        "    print('lleva la ficha desde',desde,'hasta', hasta)\n",
        "    torres(N-1,6-desde-hasta, hasta)\n",
        "\n",
        "\n",
        "torres(3,1,3)"
      ],
      "execution_count": 9,
      "outputs": [
        {
          "output_type": "stream",
          "text": [
            "lleva ficha desde 1 hasta 3\n",
            "lleva la ficha desde 1 hasta 2\n",
            "lleva ficha desde 3 hasta 2\n",
            "lleva la ficha desde 1 hasta 3\n",
            "lleva ficha desde 2 hasta 1\n",
            "lleva la ficha desde 2 hasta 3\n",
            "lleva ficha desde 1 hasta 3\n"
          ],
          "name": "stdout"
        }
      ]
    },
    {
      "cell_type": "code",
      "metadata": {
        "id": "mp3EXtHgaFzW",
        "colab_type": "code",
        "colab": {}
      },
      "source": [
        ""
      ],
      "execution_count": 0,
      "outputs": []
    }
  ]
}