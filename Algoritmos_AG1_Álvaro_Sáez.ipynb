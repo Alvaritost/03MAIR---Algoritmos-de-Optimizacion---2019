{
  "nbformat": 4,
  "nbformat_minor": 0,
  "metadata": {
    "colab": {
      "name": "Algoritmos_AG1_Álvaro_Sáez.ipynb",
      "provenance": [],
      "collapsed_sections": [],
      "include_colab_link": true
    },
    "kernelspec": {
      "name": "python3",
      "display_name": "Python 3"
    }
  },
  "cells": [
    {
      "cell_type": "markdown",
      "metadata": {
        "id": "view-in-github",
        "colab_type": "text"
      },
      "source": [
        "<a href=\"https://colab.research.google.com/github/Alvaritost/03MAIR---Algoritmos-de-Optimizacion---2019/blob/master/Algoritmos_AG1_%C3%81lvaro_S%C3%A1ez.ipynb\" target=\"_parent\"><img src=\"https://colab.research.google.com/assets/colab-badge.svg\" alt=\"Open In Colab\"/></a>"
      ]
    },
    {
      "cell_type": "code",
      "metadata": {
        "id": "_f8hGETyUpEW",
        "colab_type": "code",
        "colab": {}
      },
      "source": [
        ""
      ],
      "execution_count": 0,
      "outputs": []
    },
    {
      "cell_type": "markdown",
      "metadata": {
        "id": "0rbsp-RFVEG1",
        "colab_type": "text"
      },
      "source": [
        "AG1. Algorirmos de Optimización</br>\n",
        "Álvaro Sáez</br>\n",
        "https://colab.research.google.com/drive/1W-Pgk8WGxeO06ojcNnEZH1HLLYcpl-MX"
      ]
    },
    {
      "cell_type": "code",
      "metadata": {
        "id": "O3zy0AN1sys9",
        "colab_type": "code",
        "colab": {}
      },
      "source": [
        "#Problema de las torres de Hanoi:"
      ],
      "execution_count": 0,
      "outputs": []
    },
    {
      "cell_type": "code",
      "metadata": {
        "id": "XGIgERvHV_mf",
        "colab_type": "code",
        "outputId": "611143d1-d749-491b-cb3e-e695801b63ae",
        "colab": {
          "base_uri": "https://localhost:8080/",
          "height": 269
        }
      },
      "source": [
        "def torres(N,desde,hasta):\n",
        "  if N==1:\n",
        "    print('lleva ficha desde', desde, 'hasta', hasta)\n",
        "  else:\n",
        "    torres(N-1,desde,6-desde-hasta)\n",
        "    print('lleva la ficha desde',desde,'hasta', hasta)\n",
        "    torres(N-1,6-desde-hasta, hasta)\n",
        "\n",
        "\n",
        "torres(4,1,3)"
      ],
      "execution_count": 0,
      "outputs": [
        {
          "output_type": "stream",
          "text": [
            "lleva ficha desde 1 hasta 2\n",
            "lleva la ficha desde 1 hasta 3\n",
            "lleva ficha desde 2 hasta 3\n",
            "lleva la ficha desde 1 hasta 2\n",
            "lleva ficha desde 3 hasta 1\n",
            "lleva la ficha desde 3 hasta 2\n",
            "lleva ficha desde 1 hasta 2\n",
            "lleva la ficha desde 1 hasta 3\n",
            "lleva ficha desde 2 hasta 3\n",
            "lleva la ficha desde 2 hasta 1\n",
            "lleva ficha desde 3 hasta 1\n",
            "lleva la ficha desde 2 hasta 3\n",
            "lleva ficha desde 1 hasta 2\n",
            "lleva la ficha desde 1 hasta 3\n",
            "lleva ficha desde 2 hasta 3\n"
          ],
          "name": "stdout"
        }
      ]
    },
    {
      "cell_type": "code",
      "metadata": {
        "id": "c3npA5-qstqG",
        "colab_type": "code",
        "colab": {}
      },
      "source": [
        "#Problema de las 8 reinas en tablero de 8x8:"
      ],
      "execution_count": 0,
      "outputs": []
    },
    {
      "cell_type": "code",
      "metadata": {
        "id": "mp3EXtHgaFzW",
        "colab_type": "code",
        "colab": {}
      },
      "source": [
        "def es_prometedora(solucion, etapa):\n",
        "  for i in range(etapa+1):\n",
        "    if solucion.count(solucion[i])>1:\n",
        "      return False\n",
        "    for j in range(i+1, etapa+1):\n",
        "      if abs(i-j)==abs(solucion[i]-solucion[j]):\n",
        "        return False\n",
        "  return True"
      ],
      "execution_count": 0,
      "outputs": []
    },
    {
      "cell_type": "code",
      "metadata": {
        "id": "LCZMtI-NqTNK",
        "colab_type": "code",
        "colab": {}
      },
      "source": [
        "def reinas (N, solucion, etapa):\n",
        "  for i in range(1, N+1):\n",
        "    solucion[etapa]=i\n",
        "    if es_prometedora(solucion, etapa):\n",
        "      if etapa==N-1:\n",
        "        print(\"\\n\\nLa solución es:\")\n",
        "        print(solucion)\n",
        "      else:\n",
        "        reinas(N, solucion, etapa+1)\n",
        "    else:\n",
        "      None\n",
        "    solucion[etapa]=0"
      ],
      "execution_count": 0,
      "outputs": []
    },
    {
      "cell_type": "code",
      "metadata": {
        "id": "9jeOrTfXq6Ab",
        "colab_type": "code",
        "outputId": "9489307d-7382-4adc-9a98-471b93a21ed2",
        "colab": {
          "base_uri": "https://localhost:8080/",
          "height": 1000
        }
      },
      "source": [
        "reinas(8,[0,0,0,0,0,0,0,0], 0 )"
      ],
      "execution_count": 0,
      "outputs": [
        {
          "output_type": "stream",
          "text": [
            "\n",
            "\n",
            "La solución es:\n",
            "[1, 5, 8, 6, 3, 7, 2, 4]\n",
            "\n",
            "\n",
            "La solución es:\n",
            "[1, 6, 8, 3, 7, 4, 2, 5]\n",
            "\n",
            "\n",
            "La solución es:\n",
            "[1, 7, 4, 6, 8, 2, 5, 3]\n",
            "\n",
            "\n",
            "La solución es:\n",
            "[1, 7, 5, 8, 2, 4, 6, 3]\n",
            "\n",
            "\n",
            "La solución es:\n",
            "[2, 4, 6, 8, 3, 1, 7, 5]\n",
            "\n",
            "\n",
            "La solución es:\n",
            "[2, 5, 7, 1, 3, 8, 6, 4]\n",
            "\n",
            "\n",
            "La solución es:\n",
            "[2, 5, 7, 4, 1, 8, 6, 3]\n",
            "\n",
            "\n",
            "La solución es:\n",
            "[2, 6, 1, 7, 4, 8, 3, 5]\n",
            "\n",
            "\n",
            "La solución es:\n",
            "[2, 6, 8, 3, 1, 4, 7, 5]\n",
            "\n",
            "\n",
            "La solución es:\n",
            "[2, 7, 3, 6, 8, 5, 1, 4]\n",
            "\n",
            "\n",
            "La solución es:\n",
            "[2, 7, 5, 8, 1, 4, 6, 3]\n",
            "\n",
            "\n",
            "La solución es:\n",
            "[2, 8, 6, 1, 3, 5, 7, 4]\n",
            "\n",
            "\n",
            "La solución es:\n",
            "[3, 1, 7, 5, 8, 2, 4, 6]\n",
            "\n",
            "\n",
            "La solución es:\n",
            "[3, 5, 2, 8, 1, 7, 4, 6]\n",
            "\n",
            "\n",
            "La solución es:\n",
            "[3, 5, 2, 8, 6, 4, 7, 1]\n",
            "\n",
            "\n",
            "La solución es:\n",
            "[3, 5, 7, 1, 4, 2, 8, 6]\n",
            "\n",
            "\n",
            "La solución es:\n",
            "[3, 5, 8, 4, 1, 7, 2, 6]\n",
            "\n",
            "\n",
            "La solución es:\n",
            "[3, 6, 2, 5, 8, 1, 7, 4]\n",
            "\n",
            "\n",
            "La solución es:\n",
            "[3, 6, 2, 7, 1, 4, 8, 5]\n",
            "\n",
            "\n",
            "La solución es:\n",
            "[3, 6, 2, 7, 5, 1, 8, 4]\n",
            "\n",
            "\n",
            "La solución es:\n",
            "[3, 6, 4, 1, 8, 5, 7, 2]\n",
            "\n",
            "\n",
            "La solución es:\n",
            "[3, 6, 4, 2, 8, 5, 7, 1]\n",
            "\n",
            "\n",
            "La solución es:\n",
            "[3, 6, 8, 1, 4, 7, 5, 2]\n",
            "\n",
            "\n",
            "La solución es:\n",
            "[3, 6, 8, 1, 5, 7, 2, 4]\n",
            "\n",
            "\n",
            "La solución es:\n",
            "[3, 6, 8, 2, 4, 1, 7, 5]\n",
            "\n",
            "\n",
            "La solución es:\n",
            "[3, 7, 2, 8, 5, 1, 4, 6]\n",
            "\n",
            "\n",
            "La solución es:\n",
            "[3, 7, 2, 8, 6, 4, 1, 5]\n",
            "\n",
            "\n",
            "La solución es:\n",
            "[3, 8, 4, 7, 1, 6, 2, 5]\n",
            "\n",
            "\n",
            "La solución es:\n",
            "[4, 1, 5, 8, 2, 7, 3, 6]\n",
            "\n",
            "\n",
            "La solución es:\n",
            "[4, 1, 5, 8, 6, 3, 7, 2]\n",
            "\n",
            "\n",
            "La solución es:\n",
            "[4, 2, 5, 8, 6, 1, 3, 7]\n",
            "\n",
            "\n",
            "La solución es:\n",
            "[4, 2, 7, 3, 6, 8, 1, 5]\n",
            "\n",
            "\n",
            "La solución es:\n",
            "[4, 2, 7, 3, 6, 8, 5, 1]\n",
            "\n",
            "\n",
            "La solución es:\n",
            "[4, 2, 7, 5, 1, 8, 6, 3]\n",
            "\n",
            "\n",
            "La solución es:\n",
            "[4, 2, 8, 5, 7, 1, 3, 6]\n",
            "\n",
            "\n",
            "La solución es:\n",
            "[4, 2, 8, 6, 1, 3, 5, 7]\n",
            "\n",
            "\n",
            "La solución es:\n",
            "[4, 6, 1, 5, 2, 8, 3, 7]\n",
            "\n",
            "\n",
            "La solución es:\n",
            "[4, 6, 8, 2, 7, 1, 3, 5]\n",
            "\n",
            "\n",
            "La solución es:\n",
            "[4, 6, 8, 3, 1, 7, 5, 2]\n",
            "\n",
            "\n",
            "La solución es:\n",
            "[4, 7, 1, 8, 5, 2, 6, 3]\n",
            "\n",
            "\n",
            "La solución es:\n",
            "[4, 7, 3, 8, 2, 5, 1, 6]\n",
            "\n",
            "\n",
            "La solución es:\n",
            "[4, 7, 5, 2, 6, 1, 3, 8]\n",
            "\n",
            "\n",
            "La solución es:\n",
            "[4, 7, 5, 3, 1, 6, 8, 2]\n",
            "\n",
            "\n",
            "La solución es:\n",
            "[4, 8, 1, 3, 6, 2, 7, 5]\n",
            "\n",
            "\n",
            "La solución es:\n",
            "[4, 8, 1, 5, 7, 2, 6, 3]\n",
            "\n",
            "\n",
            "La solución es:\n",
            "[4, 8, 5, 3, 1, 7, 2, 6]\n",
            "\n",
            "\n",
            "La solución es:\n",
            "[5, 1, 4, 6, 8, 2, 7, 3]\n",
            "\n",
            "\n",
            "La solución es:\n",
            "[5, 1, 8, 4, 2, 7, 3, 6]\n",
            "\n",
            "\n",
            "La solución es:\n",
            "[5, 1, 8, 6, 3, 7, 2, 4]\n",
            "\n",
            "\n",
            "La solución es:\n",
            "[5, 2, 4, 6, 8, 3, 1, 7]\n",
            "\n",
            "\n",
            "La solución es:\n",
            "[5, 2, 4, 7, 3, 8, 6, 1]\n",
            "\n",
            "\n",
            "La solución es:\n",
            "[5, 2, 6, 1, 7, 4, 8, 3]\n",
            "\n",
            "\n",
            "La solución es:\n",
            "[5, 2, 8, 1, 4, 7, 3, 6]\n",
            "\n",
            "\n",
            "La solución es:\n",
            "[5, 3, 1, 6, 8, 2, 4, 7]\n",
            "\n",
            "\n",
            "La solución es:\n",
            "[5, 3, 1, 7, 2, 8, 6, 4]\n",
            "\n",
            "\n",
            "La solución es:\n",
            "[5, 3, 8, 4, 7, 1, 6, 2]\n",
            "\n",
            "\n",
            "La solución es:\n",
            "[5, 7, 1, 3, 8, 6, 4, 2]\n",
            "\n",
            "\n",
            "La solución es:\n",
            "[5, 7, 1, 4, 2, 8, 6, 3]\n",
            "\n",
            "\n",
            "La solución es:\n",
            "[5, 7, 2, 4, 8, 1, 3, 6]\n",
            "\n",
            "\n",
            "La solución es:\n",
            "[5, 7, 2, 6, 3, 1, 4, 8]\n",
            "\n",
            "\n",
            "La solución es:\n",
            "[5, 7, 2, 6, 3, 1, 8, 4]\n",
            "\n",
            "\n",
            "La solución es:\n",
            "[5, 7, 4, 1, 3, 8, 6, 2]\n",
            "\n",
            "\n",
            "La solución es:\n",
            "[5, 8, 4, 1, 3, 6, 2, 7]\n",
            "\n",
            "\n",
            "La solución es:\n",
            "[5, 8, 4, 1, 7, 2, 6, 3]\n",
            "\n",
            "\n",
            "La solución es:\n",
            "[6, 1, 5, 2, 8, 3, 7, 4]\n",
            "\n",
            "\n",
            "La solución es:\n",
            "[6, 2, 7, 1, 3, 5, 8, 4]\n",
            "\n",
            "\n",
            "La solución es:\n",
            "[6, 2, 7, 1, 4, 8, 5, 3]\n",
            "\n",
            "\n",
            "La solución es:\n",
            "[6, 3, 1, 7, 5, 8, 2, 4]\n",
            "\n",
            "\n",
            "La solución es:\n",
            "[6, 3, 1, 8, 4, 2, 7, 5]\n",
            "\n",
            "\n",
            "La solución es:\n",
            "[6, 3, 1, 8, 5, 2, 4, 7]\n",
            "\n",
            "\n",
            "La solución es:\n",
            "[6, 3, 5, 7, 1, 4, 2, 8]\n",
            "\n",
            "\n",
            "La solución es:\n",
            "[6, 3, 5, 8, 1, 4, 2, 7]\n",
            "\n",
            "\n",
            "La solución es:\n",
            "[6, 3, 7, 2, 4, 8, 1, 5]\n",
            "\n",
            "\n",
            "La solución es:\n",
            "[6, 3, 7, 2, 8, 5, 1, 4]\n",
            "\n",
            "\n",
            "La solución es:\n",
            "[6, 3, 7, 4, 1, 8, 2, 5]\n",
            "\n",
            "\n",
            "La solución es:\n",
            "[6, 4, 1, 5, 8, 2, 7, 3]\n",
            "\n",
            "\n",
            "La solución es:\n",
            "[6, 4, 2, 8, 5, 7, 1, 3]\n",
            "\n",
            "\n",
            "La solución es:\n",
            "[6, 4, 7, 1, 3, 5, 2, 8]\n",
            "\n",
            "\n",
            "La solución es:\n",
            "[6, 4, 7, 1, 8, 2, 5, 3]\n",
            "\n",
            "\n",
            "La solución es:\n",
            "[6, 8, 2, 4, 1, 7, 5, 3]\n",
            "\n",
            "\n",
            "La solución es:\n",
            "[7, 1, 3, 8, 6, 4, 2, 5]\n",
            "\n",
            "\n",
            "La solución es:\n",
            "[7, 2, 4, 1, 8, 5, 3, 6]\n",
            "\n",
            "\n",
            "La solución es:\n",
            "[7, 2, 6, 3, 1, 4, 8, 5]\n",
            "\n",
            "\n",
            "La solución es:\n",
            "[7, 3, 1, 6, 8, 5, 2, 4]\n",
            "\n",
            "\n",
            "La solución es:\n",
            "[7, 3, 8, 2, 5, 1, 6, 4]\n",
            "\n",
            "\n",
            "La solución es:\n",
            "[7, 4, 2, 5, 8, 1, 3, 6]\n",
            "\n",
            "\n",
            "La solución es:\n",
            "[7, 4, 2, 8, 6, 1, 3, 5]\n",
            "\n",
            "\n",
            "La solución es:\n",
            "[7, 5, 3, 1, 6, 8, 2, 4]\n",
            "\n",
            "\n",
            "La solución es:\n",
            "[8, 2, 4, 1, 7, 5, 3, 6]\n",
            "\n",
            "\n",
            "La solución es:\n",
            "[8, 2, 5, 3, 1, 7, 4, 6]\n",
            "\n",
            "\n",
            "La solución es:\n",
            "[8, 3, 1, 6, 2, 5, 7, 4]\n",
            "\n",
            "\n",
            "La solución es:\n",
            "[8, 4, 1, 3, 6, 2, 7, 5]\n"
          ],
          "name": "stdout"
        }
      ]
    },
    {
      "cell_type": "code",
      "metadata": {
        "id": "tczhW0B7rLKZ",
        "colab_type": "code",
        "colab": {}
      },
      "source": [
        "#Problema de encontrar los dos puntos más cercanos:"
      ],
      "execution_count": 0,
      "outputs": []
    },
    {
      "cell_type": "code",
      "metadata": {
        "id": "0ZmrgV8wusiM",
        "colab_type": "code",
        "colab": {}
      },
      "source": [
        "import random\n",
        "Lista_1D=[random.randrange(1,10000) for x in range(30)]"
      ],
      "execution_count": 0,
      "outputs": []
    },
    {
      "cell_type": "code",
      "metadata": {
        "id": "kwyJ9Eg9xgDi",
        "colab_type": "code",
        "colab": {}
      },
      "source": [
        "#Empezamos con fuerza bruta:"
      ],
      "execution_count": 0,
      "outputs": []
    },
    {
      "cell_type": "code",
      "metadata": {
        "id": "LZP1O3cMwqxt",
        "colab_type": "code",
        "colab": {}
      },
      "source": [
        "import numpy as np"
      ],
      "execution_count": 0,
      "outputs": []
    },
    {
      "cell_type": "code",
      "metadata": {
        "id": "lRjYVurJvBUK",
        "colab_type": "code",
        "colab": {}
      },
      "source": [
        "def puntos_mas_cercanos(lista):\n",
        "  l=[]\n",
        "  g=[0,0,0]\n",
        "  for i in range(len(lista)):\n",
        "    for j in range(i, len(lista)): #Bucles anidados para la resta.\n",
        "      if lista[i]==lista[j]: #He determinado que no me interesa para hacer diferencias los puntos que son el mismo, siempre puntos diferentes.\n",
        "        continue\n",
        "      else:\n",
        "        distancia=abs(lista[i]-lista[j]) #Necesarias las distancias en valor absoluto\n",
        "        l.append(distancia)\n",
        "        if distancia==np.min(l):\n",
        "          g[0]=distancia #El primer elemento de g devuelve la distancia entre los puntos.\n",
        "          g[1]=lista[i] #El segundo elemento devuelve el primer punto.\n",
        "          g[2]=lista[j] #El segundo elemento devuelve el segundo punto.\n",
        "        else:\n",
        "          continue\n",
        "  return g"
      ],
      "execution_count": 0,
      "outputs": []
    },
    {
      "cell_type": "code",
      "metadata": {
        "id": "26fm9lDUwj35",
        "colab_type": "code",
        "outputId": "af927c37-ccd8-4e93-fd79-769dd844712d",
        "colab": {
          "base_uri": "https://localhost:8080/",
          "height": 34
        }
      },
      "source": [
        "puntos_mas_cercanos(Lista_1D)"
      ],
      "execution_count": 0,
      "outputs": [
        {
          "output_type": "execute_result",
          "data": {
            "text/plain": [
              "[13, 4982, 4969]"
            ]
          },
          "metadata": {
            "tags": []
          },
          "execution_count": 10
        }
      ]
    },
    {
      "cell_type": "code",
      "metadata": {
        "id": "cNgGOfWs4REw",
        "colab_type": "code",
        "colab": {}
      },
      "source": [
        "#La complejidad es del orden de n^2/2."
      ],
      "execution_count": 0,
      "outputs": []
    },
    {
      "cell_type": "code",
      "metadata": {
        "id": "ZKgutcbGwxv6",
        "colab_type": "code",
        "colab": {}
      },
      "source": [
        "#Mediante divide y vencerás:"
      ],
      "execution_count": 0,
      "outputs": []
    },
    {
      "cell_type": "code",
      "metadata": {
        "id": "YXuirNEEmih3",
        "colab_type": "code",
        "colab": {}
      },
      "source": [
        "#Definimos función que calcula recursivamente todas las diferencias entre puntos de manera similar a la de fuerza bruta:\n",
        "def recursividad(lista, i, f, l, g): #siendo \"i\" el primer elemento de la lista que resta y \"f\" el segundo, \"l\" la lista en la la que se van guardando las distancias y \"g\" la que guarda la distancia mínima.\n",
        "    if i==len(lista)-1: #Cuando se llega al último elemento posible para restar se devuelve el último y definitivo valor de \"g\", la distancia más pequeña.\n",
        "        return g\n",
        "    else:\n",
        "        if f==len(lista)-1:\n",
        "            distancia=abs(lista[i]-lista[f])\n",
        "            l.append(distancia)\n",
        "            if distancia==0:  #Mismo criterio para los puntos iguales que en el código de fuerza bruta, se descartan.\n",
        "                i+=1\n",
        "                return recursividad(lista, i, i+1, l, g) \n",
        "            elif distancia==np.min(l):\n",
        "                g[0]=distancia #El primer elemento de g devuelve la distancia entre los puntos.\n",
        "                g[1]=lista[i] #El segundo elemento devuelve el primer punto.\n",
        "                g[2]=lista[f] #El segundo elemento devuelve el segundo punto.\n",
        "                i+=1\n",
        "                return recursividad(lista, i, i+1, l, g) \n",
        "            else:\n",
        "                i+=1\n",
        "                return recursividad(lista, i, i+1, l, g) \n",
        "        else:\n",
        "            distancia=abs(lista[i]-lista[f])\n",
        "            l.append(distancia)\n",
        "            if distancia==0:\n",
        "                f+=1\n",
        "                return recursividad(lista, i, f, l, g)\n",
        "            elif distancia==np.min(l):\n",
        "                g[0]=distancia #El primer elemento de g devuelve la distancia entre los puntos.\n",
        "                g[1]=lista[i] #El segundo elemento devuelve el primer punto.\n",
        "                g[2]=lista[f] #El segundo elemento devuelve el segundo punto.\n",
        "                f+=1\n",
        "                return recursividad(lista, i, f, l, g)\n",
        "            else:\n",
        "                f+=1\n",
        "                return recursividad(lista, i, f, l, g)"
      ],
      "execution_count": 0,
      "outputs": []
    },
    {
      "cell_type": "code",
      "metadata": {
        "id": "QSSUCW2qn-bf",
        "colab_type": "code",
        "colab": {}
      },
      "source": [
        "#Se define la función que llama a recursividad, la que hace el cálculo de la mínima distancia. \n",
        "def puntos_mas_cercanos(lista):\n",
        "    l=[]\n",
        "    g=[0,0,0]\n",
        "    return recursividad(lista,0,1, l, g)"
      ],
      "execution_count": 0,
      "outputs": []
    },
    {
      "cell_type": "code",
      "metadata": {
        "id": "F-AazZTJoI-c",
        "colab_type": "code",
        "outputId": "f97db986-d017-4417-e275-23337075436d",
        "colab": {
          "base_uri": "https://localhost:8080/",
          "height": 34
        }
      },
      "source": [
        "puntos_mas_cercanos(Lista_1D)"
      ],
      "execution_count": 0,
      "outputs": [
        {
          "output_type": "execute_result",
          "data": {
            "text/plain": [
              "[13, 4982, 4969]"
            ]
          },
          "metadata": {
            "tags": []
          },
          "execution_count": 11
        }
      ]
    },
    {
      "cell_type": "code",
      "metadata": {
        "id": "Yrym3UbboSm2",
        "colab_type": "code",
        "colab": {}
      },
      "source": [
        "#Como se puede apreciar, se llega al mismo resultado que por fuerza bruta. \n",
        "#Realmente, por procedimientos relacionados con Divide y Vencerás no se me ocurre ninguna forma de mejorar el algoritmo, quizá para cantidades más altas de puntos habría que utilizar técnicas heurísticas.\n",
        "#Para dos y tres dimensiones hay que introducir en el cálculo las difetrentes componentes vectoriales de los puntos en el apartado de cálculo:"
      ],
      "execution_count": 0,
      "outputs": []
    },
    {
      "cell_type": "code",
      "metadata": {
        "id": "GYQlXcWeqAE3",
        "colab_type": "code",
        "colab": {}
      },
      "source": [
        "#Primero generamos lista de puntos de dos dimensiones:\n",
        "LISTA_2D=[(random.randrange(1,10000), random.randrange(1,10000)) for x in range(40)]"
      ],
      "execution_count": 0,
      "outputs": []
    },
    {
      "cell_type": "code",
      "metadata": {
        "id": "9g5lwtdiqrYa",
        "colab_type": "code",
        "colab": {}
      },
      "source": [
        "#Función de cálculo adaptada a dos dimensiones:\n",
        "def recursividad2D(lista, i, f, l, g): \n",
        "    if i==len(lista)-1:\n",
        "        return g\n",
        "    else:\n",
        "        if f==len(lista)-1:\n",
        "            distancia=((lista[i][0]-lista[f][0])**2+(lista[i][1]-lista[f][1])**2)**0.5\n",
        "            l.append(distancia)\n",
        "            if distancia==0:\n",
        "                i+=1\n",
        "                return recursividad2D(lista, i, i+1, l, g) \n",
        "            elif distancia==np.min(l):\n",
        "                g[0]=distancia \n",
        "                g[1]=lista[i]\n",
        "                g[2]=lista[f]\n",
        "                i+=1\n",
        "                return recursividad2D(lista, i, i+1, l, g) \n",
        "            else:\n",
        "                i+=1\n",
        "                return recursividad2D(lista, i, i+1, l, g) \n",
        "        else:\n",
        "            distancia=((lista[i][0]-lista[f][0])**2+(lista[i][1]-lista[f][1])**2)**0.5\n",
        "            l.append(distancia)\n",
        "            if distancia==0:\n",
        "                f+=1\n",
        "                return recursividad2D(lista, i, f, l, g)\n",
        "            elif distancia==np.min(l):\n",
        "                g[0]=distancia \n",
        "                g[1]=lista[i] \n",
        "                g[2]=lista[f]\n",
        "                f+=1\n",
        "                return recursividad2D(lista, i, f, l, g)\n",
        "            else:\n",
        "                f+=1\n",
        "                return recursividad2D(lista, i, f, l, g)"
      ],
      "execution_count": 0,
      "outputs": []
    },
    {
      "cell_type": "code",
      "metadata": {
        "id": "plKFo1LCsfZd",
        "colab_type": "code",
        "colab": {}
      },
      "source": [
        "def puntos_mas_cercanos2D(lista):\n",
        "    l=[]\n",
        "    g=[0,0,0]\n",
        "    return recursividad2D(lista,0,1, l, g)"
      ],
      "execution_count": 0,
      "outputs": []
    },
    {
      "cell_type": "code",
      "metadata": {
        "id": "71fN63kMspuy",
        "colab_type": "code",
        "outputId": "ac619a9a-9471-4b68-95e2-fa46b0164c35",
        "colab": {
          "base_uri": "https://localhost:8080/",
          "height": 34
        }
      },
      "source": [
        "puntos_mas_cercanos2D(LISTA_2D)"
      ],
      "execution_count": 0,
      "outputs": [
        {
          "output_type": "execute_result",
          "data": {
            "text/plain": [
              "[96.84007434941384, (8580, 6267), (8607, 6360)]"
            ]
          },
          "metadata": {
            "tags": []
          },
          "execution_count": 17
        }
      ]
    },
    {
      "cell_type": "code",
      "metadata": {
        "id": "Xbh50DPbsw42",
        "colab_type": "code",
        "colab": {}
      },
      "source": [
        "#Y para tres dimensiones:"
      ],
      "execution_count": 0,
      "outputs": []
    },
    {
      "cell_type": "code",
      "metadata": {
        "id": "XVFNTvBNtfBw",
        "colab_type": "code",
        "colab": {}
      },
      "source": [
        "LISTA_3D=[(random.randrange(1,10000), random.randrange(1,10000), random.randrange(1,10000)) for x in range(40)]"
      ],
      "execution_count": 0,
      "outputs": []
    },
    {
      "cell_type": "code",
      "metadata": {
        "id": "sz_161fBs034",
        "colab_type": "code",
        "colab": {}
      },
      "source": [
        "def recursividad3D(lista, i, f, l, g): \n",
        "    if i==len(lista)-1:\n",
        "        return g\n",
        "    else:\n",
        "        if f==len(lista)-1:\n",
        "            distancia=((lista[i][0]-lista[f][0])**2+(lista[i][1]-lista[f][1])**2+(lista[i][2]-lista[f][2])**2)**0.5\n",
        "            l.append(distancia)\n",
        "            if distancia==0:\n",
        "                i+=1\n",
        "                return recursividad3D(lista, i, i+1, l, g) \n",
        "            elif distancia==np.min(l):\n",
        "                g[0]=distancia \n",
        "                g[1]=lista[i]\n",
        "                g[2]=lista[f] \n",
        "                i+=1\n",
        "                return recursividad3D(lista, i, i+1, l, g) \n",
        "            else:\n",
        "                i+=1\n",
        "                return recursividad3D(lista, i, i+1, l, g) \n",
        "        else:\n",
        "            distancia=((lista[i][0]-lista[f][0])**2+(lista[i][1]-lista[f][1])**2+(lista[i][2]-lista[f][2])**2)**0.5\n",
        "            l.append(distancia)\n",
        "            if distancia==0:\n",
        "                f+=1\n",
        "                return recursividad3D(lista, i, f, l, g)\n",
        "            elif distancia==np.min(l):\n",
        "                g[0]=distancia\n",
        "                g[1]=lista[i]\n",
        "                g[2]=lista[f]\n",
        "                f+=1\n",
        "                return recursividad3D(lista, i, f, l, g)\n",
        "            else:\n",
        "                f+=1\n",
        "                return recursividad3D(lista, i, f, l, g)"
      ],
      "execution_count": 0,
      "outputs": []
    },
    {
      "cell_type": "code",
      "metadata": {
        "id": "ZmKUgZMvta4o",
        "colab_type": "code",
        "colab": {}
      },
      "source": [
        "def puntos_mas_cercanos3D(lista):\n",
        "    l=[]\n",
        "    g=[0,0,0]\n",
        "    return recursividad3D(lista,0,1, l, g)"
      ],
      "execution_count": 0,
      "outputs": []
    },
    {
      "cell_type": "code",
      "metadata": {
        "id": "cbErdtQltt6q",
        "colab_type": "code",
        "outputId": "d2ef2d52-86d1-454d-961f-5c15de49b376",
        "colab": {
          "base_uri": "https://localhost:8080/",
          "height": 34
        }
      },
      "source": [
        "puntos_mas_cercanos3D(LISTA_3D)"
      ],
      "execution_count": 0,
      "outputs": [
        {
          "output_type": "execute_result",
          "data": {
            "text/plain": [
              "[257.8565492672234, (3285, 439, 4112), (3236, 274, 4304)]"
            ]
          },
          "metadata": {
            "tags": []
          },
          "execution_count": 23
        }
      ]
    },
    {
      "cell_type": "code",
      "metadata": {
        "id": "wDQBQlmhtyj3",
        "colab_type": "code",
        "colab": {}
      },
      "source": [
        ""
      ],
      "execution_count": 0,
      "outputs": []
    }
  ]
}