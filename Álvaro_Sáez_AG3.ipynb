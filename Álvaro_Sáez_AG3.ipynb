{
  "nbformat": 4,
  "nbformat_minor": 0,
  "metadata": {
    "colab": {
      "name": "Álvaro Sáez - AG3.ipynb",
      "provenance": [],
      "collapsed_sections": [],
      "authorship_tag": "ABX9TyOFeCf/2RPEQoOsJWzmIkvY",
      "include_colab_link": true
    },
    "kernelspec": {
      "name": "python3",
      "display_name": "Python 3"
    }
  },
  "cells": [
    {
      "cell_type": "markdown",
      "metadata": {
        "id": "view-in-github",
        "colab_type": "text"
      },
      "source": [
        "<a href=\"https://colab.research.google.com/github/Alvaritost/03MAIR---Algoritmos-de-Optimizacion---2019/blob/master/%C3%81lvaro_S%C3%A1ez_AG3.ipynb\" target=\"_parent\"><img src=\"https://colab.research.google.com/assets/colab-badge.svg\" alt=\"Open In Colab\"/></a>"
      ]
    },
    {
      "cell_type": "code",
      "metadata": {
        "id": "7ap5vlBUmk31",
        "colab_type": "code",
        "colab": {}
      },
      "source": [
        ""
      ],
      "execution_count": 0,
      "outputs": []
    },
    {
      "cell_type": "markdown",
      "metadata": {
        "id": "ZfDk5z1Kmzdj",
        "colab_type": "text"
      },
      "source": [
        "AG3 - Actividad Guiada 3 <br>\n",
        "Nombre: Álvaro Sáez  \n",
        "Link: https://colab.research.google.com/drive/1FWtNenc47bh1OMNLA1pTCv9GHvIlncq1"
      ]
    },
    {
      "cell_type": "code",
      "metadata": {
        "id": "x2VKDZ04nLi6",
        "colab_type": "code",
        "outputId": "5c745cfa-3905-4d5e-e43d-fde1b05cd24e",
        "colab": {
          "base_uri": "https://localhost:8080/",
          "height": 34
        }
      },
      "source": [
        "import urllib.request\n",
        "\n",
        "file = \"swiss42.tsp\"\n",
        "\n",
        "urllib.request.urlretrieve(\"http://elib.zib.de/pub/mp-testdata/tsp/tsplib/tsp/swiss42.tsp\", file)"
      ],
      "execution_count": 0,
      "outputs": [
        {
          "output_type": "execute_result",
          "data": {
            "text/plain": [
              "('swiss42.tsp', <http.client.HTTPMessage at 0x7fa3a9eee518>)"
            ]
          },
          "metadata": {
            "tags": []
          },
          "execution_count": 24
        }
      ]
    },
    {
      "cell_type": "code",
      "metadata": {
        "id": "0repa4VBqBs5",
        "colab_type": "code",
        "outputId": "9ac8f904-3b24-497a-c87c-52e8fb663f83",
        "colab": {
          "base_uri": "https://localhost:8080/",
          "height": 84
        }
      },
      "source": [
        "!pip install tsplib95"
      ],
      "execution_count": 0,
      "outputs": [
        {
          "output_type": "stream",
          "text": [
            "Requirement already satisfied: tsplib95 in /usr/local/lib/python3.6/dist-packages (0.6.1)\n",
            "Requirement already satisfied: networkx~=2.1 in /usr/local/lib/python3.6/dist-packages (from tsplib95) (2.4)\n",
            "Requirement already satisfied: Click>=6.0 in /usr/local/lib/python3.6/dist-packages (from tsplib95) (7.0)\n",
            "Requirement already satisfied: decorator>=4.3.0 in /usr/local/lib/python3.6/dist-packages (from networkx~=2.1->tsplib95) (4.4.1)\n"
          ],
          "name": "stdout"
        }
      ]
    },
    {
      "cell_type": "code",
      "metadata": {
        "id": "7BTQl5Y7slXA",
        "colab_type": "code",
        "colab": {}
      },
      "source": [
        "import tsplib95\n",
        "import random\n",
        "import math"
      ],
      "execution_count": 0,
      "outputs": []
    },
    {
      "cell_type": "code",
      "metadata": {
        "id": "XtP2suP_s9y-",
        "colab_type": "code",
        "colab": {}
      },
      "source": [
        "problem = tsplib95.load_problem(file)"
      ],
      "execution_count": 0,
      "outputs": []
    },
    {
      "cell_type": "code",
      "metadata": {
        "id": "rfn0Hu8AtNqX",
        "colab_type": "code",
        "colab": {}
      },
      "source": [
        "Nodos=list(problem.get_nodes())\n",
        "Aristas=list(problem.get_edges())"
      ],
      "execution_count": 0,
      "outputs": []
    },
    {
      "cell_type": "code",
      "metadata": {
        "id": "ojUU2R3ltcsC",
        "colab_type": "code",
        "colab": {}
      },
      "source": [
        "#Se genera una solucion aleatoria con comienzo en en el nodo 0\n",
        "def crear_solucion(Nodos): \n",
        "  solucion = [0]\n",
        "  for i in range(len(Nodos)-1):\n",
        "    solucion = solucion + [random.choice(list(set(Nodos) - set(solucion)))]\n",
        "  return solucion \n",
        "\n",
        "#Devuelve la distancia entre dos nodos\n",
        "def distancia(a,b, problem):\n",
        "  return problem.wfunc(a,b)\n",
        "\n",
        "#Devuelve la distancia total de una trayectoria\n",
        "def distancia_total(solucion, problem):\n",
        "  distancia_total = 0\n",
        "  for i in range(len(solucion)-1):\n",
        "    distancia_total += distancia(solucion[i] ,solucion[i+1] ,  problem)\n",
        "  return distancia_total + distancia(solucion[len(solucion)-1] ,solucion[0], problem)"
      ],
      "execution_count": 0,
      "outputs": []
    },
    {
      "cell_type": "code",
      "metadata": {
        "id": "FBegwLRqwlia",
        "colab_type": "code",
        "colab": {}
      },
      "source": [
        "#Busqueda aleatorio\n",
        "def busqueda_aleatoria(problem, N):\n",
        "  mejor_solucion = crear_solucion(Nodos)\n",
        "  mejor_valor    = distancia_total(mejor_solucion, problem)\n",
        "\n",
        "  for i in range(N):\n",
        "      solucion = crear_solucion(Nodos)\n",
        "      valor    = distancia_total(solucion, problem)\n",
        "      if valor < mejor_valor:\n",
        "        mejor_solucion = solucion\n",
        "        mejor_valor = valor\n",
        "\n",
        "  #print(\"La mejor solucion es \",mejor_valor,  mejor_solucion)\n",
        "   \n",
        "#busqueda_aleatoria(problem, 20000)"
      ],
      "execution_count": 0,
      "outputs": []
    },
    {
      "cell_type": "code",
      "metadata": {
        "id": "dPVIzXvNdeuE",
        "colab_type": "code",
        "colab": {}
      },
      "source": [
        "def genera_vecina(solucion):\n",
        "  #Generador de soluciones vecinas: 2-opt (intercambiar 2 nodos) Si hay N nodos se generan (N-1)x(N-2)/2 soluciones\n",
        "  #print(solucion)\n",
        "  mejor_solucion = []\n",
        "  mejor_distancia = 10e100\n",
        "  for i in range(1,len(solucion)-1):\n",
        "    for j in range(i+1, len(solucion)):\n",
        "      vecina = solucion[:i] + [solucion[j]] + solucion[i+1:j] + [solucion[i]] + solucion[j+1:] \n",
        "      distancia_vecina = distancia_total(vecina, problem)\n",
        "      if distancia_vecina <= mejor_distancia:\n",
        "        mejor_distancia = distancia_vecina\n",
        "        mejor_solucion = vecina\n",
        "  #print(mejor_distancia, mejor_solucion)\n",
        "  return mejor_solucion\n",
        "      \n",
        "solucion = crear_solucion(Nodos)\n",
        "mejor_solucion = genera_vecina(solucion)"
      ],
      "execution_count": 0,
      "outputs": []
    },
    {
      "cell_type": "code",
      "metadata": {
        "id": "Dqq9l0RHhG9W",
        "colab_type": "code",
        "outputId": "790aa18d-abaf-435a-910b-92ec8b5287f5",
        "colab": {
          "base_uri": "https://localhost:8080/",
          "height": 54
        }
      },
      "source": [
        "#####################################################################\n",
        "def busqueda_local(problem, N):\n",
        "  #problem = datos del problema\n",
        "  #N = numero de iteraciones\n",
        "  \n",
        "  mejor_solucion = []\n",
        "  mejor_distancia = 10e100\n",
        "  \n",
        "  solucion_referencia = crear_solucion(Nodos)\n",
        "  \n",
        "  for i in range(N):\n",
        "    vecina = genera_vecina(solucion_referencia)\n",
        "    distancia_vecina = distancia_total(vecina, problem)\n",
        "    if distancia_vecina <= mejor_distancia:\n",
        "      mejor_solucion = vecina\n",
        "      mejor_distancia = distancia_vecina\n",
        "        \n",
        "    solucion_referencia = vecina\n",
        "  print(\"La mejor solución encontrada es \" , mejor_distancia , mejor_solucion)\n",
        "busqueda_local(problem, 1000)"
      ],
      "execution_count": 0,
      "outputs": [
        {
          "output_type": "stream",
          "text": [
            "La mejor solución encontrada es  2037 [0, 28, 9, 40, 24, 21, 39, 29, 32, 34, 30, 22, 38, 33, 20, 35, 36, 3, 41, 23, 8, 2, 27, 4, 10, 25, 13, 19, 14, 5, 26, 18, 11, 12, 6, 31, 17, 37, 15, 16, 7, 1]\n"
          ],
          "name": "stdout"
        }
      ]
    },
    {
      "cell_type": "code",
      "metadata": {
        "id": "A-CFkmFyiNcO",
        "colab_type": "code",
        "outputId": "cae0cab7-d461-46c9-8ef6-9803065e2958",
        "colab": {
          "base_uri": "https://localhost:8080/",
          "height": 50
        }
      },
      "source": [
        "def genera_vecina_aleatorio(solucion):\n",
        "  #Generador de 1 solucion vecina 2-opt (intercambiar 2 nodos)\n",
        "  #Se puede mejorar haciendo que la elección no se uniforme sino entre las que estén más proximas\n",
        "  i = random.choice(range(1, len(solucion)) )\n",
        "  j = random.choice(list(set(range(1, len(solucion))) - {i}))\n",
        "  if j<i:\n",
        "    i,j=j,i\n",
        "  vecina = list(solucion[:i] + [solucion[j]] + solucion[i+1:j] + [solucion[i]] + solucion[j+1:])\n",
        "  return vecina\n",
        "\n",
        "solucion=crear_solucion(Nodos)\n",
        "print(solucion, \"\\n\", genera_vecina_aleatorio(solucion))"
      ],
      "execution_count": 0,
      "outputs": [
        {
          "output_type": "stream",
          "text": [
            "[0, 16, 18, 8, 6, 41, 39, 20, 1, 24, 3, 32, 7, 13, 2, 25, 12, 35, 21, 28, 17, 27, 23, 30, 38, 19, 40, 4, 31, 33, 9, 34, 22, 11, 29, 37, 10, 36, 5, 26, 15, 14] \n",
            " [0, 16, 18, 8, 6, 41, 39, 20, 1, 24, 3, 32, 7, 36, 2, 25, 12, 35, 21, 28, 17, 27, 23, 30, 38, 19, 40, 4, 31, 33, 9, 34, 22, 11, 29, 37, 10, 13, 5, 26, 15, 14]\n"
          ],
          "name": "stdout"
        }
      ]
    },
    {
      "cell_type": "code",
      "metadata": {
        "id": "lUWEPJY2tq9a",
        "colab_type": "code",
        "colab": {}
      },
      "source": [
        "#Funcion de probabilidad para determinar si se cambia \n",
        "#    a una solución peor respecto a la de referencia(exponencial)\n",
        "def probabilidad(T,d):\n",
        "  if random.random() <= math.exp(-1*d / T)   :\n",
        "    return True\n",
        "  else:\n",
        "    return False\n",
        "\n",
        "\n",
        "def bajar_temperatura(T):\n",
        "  return T*.9999"
      ],
      "execution_count": 0,
      "outputs": []
    },
    {
      "cell_type": "code",
      "metadata": {
        "id": "nQWlLJvm0ECJ",
        "colab_type": "code",
        "outputId": "b6e96638-41d6-4abb-aee3-518bb93af7fd",
        "colab": {
          "base_uri": "https://localhost:8080/",
          "height": 1000
        }
      },
      "source": [
        "#####################################################################\n",
        "def recocido_simulado(problem, TEMPERATURA=1000):\n",
        "  #problem = datos del problema\n",
        "\n",
        "  solucion_referencia = crear_solucion(Nodos)\n",
        "  distancia_referencia = distancia_total(solucion_referencia, problem)\n",
        "  \n",
        "  mejor_solucion = []\n",
        "  mejor_distancia = 10e100\n",
        "\n",
        "  while TEMPERATURA > 1:\n",
        "    #Genera una solución vecina(aleatoria)\n",
        "    vecina = genera_vecina_aleatorio(solucion_referencia) \n",
        "    \n",
        "    #Calcula su valor(distancia)\n",
        "    distancia_vecina = distancia_total(vecina, problem)\n",
        "    \n",
        "    #Si es la mejor solución de todas se guarda\n",
        "    if distancia_vecina < mejor_distancia:\n",
        "      mejor_solucion = vecina\n",
        "      mejor_distancia = distancia_vecina\n",
        "      print('\\t****Encontrada mejor solucion:', mejor_distancia , mejor_solucion, '\\n')\n",
        "    #Si la nueva vecina es mejor se cambia y si es peor se cambia según \n",
        "    # una probabilidad dependiente de T y de |distancia_referencia - distancia_vecina|\n",
        "    p = probabilidad(TEMPERATURA, abs(distancia_referencia - distancia_vecina) )\n",
        "    if distancia_vecina < distancia_referencia or p :\n",
        "      solucion_referencia = vecina\n",
        "      distancia_referencia = distancia_vecina\n",
        "    \n",
        "    TEMPERATURA = bajar_temperatura(TEMPERATURA)\n",
        "\n",
        "  print(\"La mejor solución encontrada es :\" , mejor_distancia, mejor_solucion  )\n",
        "  return mejor_solucion\n",
        "\n",
        "sol = recocido_simulado(problem, TEMPERATURA=1000)"
      ],
      "execution_count": 0,
      "outputs": [
        {
          "output_type": "stream",
          "text": [
            "\t****Encontrada mejor solucion: 4477 [0, 37, 38, 23, 29, 24, 40, 41, 12, 20, 25, 22, 15, 16, 13, 4, 32, 9, 14, 27, 36, 3, 2, 26, 11, 5, 39, 19, 28, 30, 18, 33, 35, 10, 8, 31, 34, 7, 17, 6, 21, 1] \n",
            "\n",
            "\t****Encontrada mejor solucion: 4367 [0, 37, 38, 23, 29, 24, 40, 41, 12, 25, 20, 3, 15, 16, 13, 4, 32, 9, 14, 27, 36, 22, 2, 26, 11, 5, 39, 19, 28, 30, 18, 33, 35, 10, 8, 31, 34, 7, 17, 6, 21, 1] \n",
            "\n",
            "\t****Encontrada mejor solucion: 4336 [0, 17, 38, 25, 24, 41, 20, 8, 21, 33, 27, 4, 30, 14, 7, 28, 32, 2, 13, 22, 26, 19, 35, 6, 31, 1, 18, 11, 12, 16, 37, 36, 40, 10, 29, 23, 3, 15, 5, 9, 39, 34] \n",
            "\n",
            "\t****Encontrada mejor solucion: 4332 [0, 2, 29, 36, 19, 26, 24, 21, 3, 32, 11, 22, 9, 28, 14, 15, 31, 41, 13, 16, 20, 10, 4, 23, 7, 18, 8, 39, 40, 5, 17, 27, 38, 37, 6, 25, 12, 1, 34, 30, 35, 33] \n",
            "\n",
            "\t****Encontrada mejor solucion: 4314 [0, 2, 29, 36, 19, 26, 24, 21, 3, 32, 11, 22, 9, 18, 14, 15, 31, 41, 13, 16, 20, 10, 4, 23, 7, 28, 8, 39, 40, 5, 17, 27, 38, 37, 6, 25, 12, 1, 34, 30, 35, 33] \n",
            "\n",
            "\t****Encontrada mejor solucion: 4258 [0, 35, 26, 20, 36, 7, 34, 21, 8, 25, 17, 16, 32, 9, 39, 40, 41, 2, 22, 10, 11, 18, 13, 5, 4, 31, 23, 1, 14, 28, 19, 15, 24, 6, 33, 38, 29, 3, 30, 37, 12, 27] \n",
            "\n",
            "\t****Encontrada mejor solucion: 4255 [0, 35, 26, 20, 36, 7, 34, 21, 8, 25, 17, 16, 32, 9, 39, 40, 41, 2, 22, 10, 11, 18, 13, 5, 4, 31, 1, 23, 14, 28, 19, 15, 24, 6, 33, 38, 29, 3, 30, 37, 12, 27] \n",
            "\n",
            "\t****Encontrada mejor solucion: 4134 [0, 35, 16, 17, 36, 7, 34, 21, 8, 25, 1, 26, 32, 9, 39, 40, 41, 5, 22, 10, 11, 18, 13, 2, 4, 31, 20, 23, 14, 28, 19, 15, 24, 6, 33, 38, 29, 3, 30, 37, 12, 27] \n",
            "\n",
            "\t****Encontrada mejor solucion: 4132 [0, 35, 33, 23, 36, 37, 14, 21, 8, 22, 9, 41, 12, 16, 39, 40, 11, 5, 6, 10, 15, 18, 13, 27, 4, 7, 25, 17, 34, 31, 19, 3, 24, 26, 1, 38, 29, 28, 30, 20, 32, 2] \n",
            "\n",
            "\t****Encontrada mejor solucion: 4081 [0, 35, 33, 23, 36, 37, 14, 21, 8, 22, 9, 41, 12, 16, 39, 40, 11, 5, 6, 10, 15, 18, 13, 27, 4, 7, 25, 17, 34, 31, 19, 26, 24, 3, 1, 38, 29, 28, 30, 20, 32, 2] \n",
            "\n",
            "\t****Encontrada mejor solucion: 4025 [0, 35, 4, 10, 5, 31, 27, 30, 25, 11, 1, 7, 9, 29, 28, 40, 39, 22, 21, 14, 18, 12, 33, 3, 26, 19, 38, 15, 17, 6, 13, 36, 34, 20, 37, 32, 2, 23, 41, 8, 24, 16] \n",
            "\n",
            "\t****Encontrada mejor solucion: 3988 [0, 35, 4, 10, 5, 31, 27, 30, 25, 11, 1, 7, 9, 29, 28, 40, 39, 23, 21, 14, 18, 12, 33, 3, 26, 19, 38, 15, 17, 16, 13, 36, 34, 20, 37, 32, 2, 22, 41, 8, 24, 6] \n",
            "\n",
            "\t****Encontrada mejor solucion: 3980 [0, 35, 4, 10, 5, 9, 27, 30, 25, 11, 1, 7, 31, 29, 28, 40, 39, 23, 21, 14, 18, 12, 33, 3, 26, 19, 38, 15, 17, 16, 13, 36, 34, 20, 37, 32, 2, 22, 41, 8, 24, 6] \n",
            "\n",
            "\t****Encontrada mejor solucion: 3924 [0, 35, 24, 10, 5, 9, 27, 30, 25, 38, 31, 7, 1, 29, 28, 40, 39, 23, 21, 20, 18, 12, 33, 3, 26, 11, 19, 15, 17, 16, 13, 36, 34, 14, 37, 32, 2, 22, 41, 8, 4, 6] \n",
            "\n",
            "\t****Encontrada mejor solucion: 3887 [0, 35, 24, 10, 5, 9, 27, 30, 25, 38, 31, 7, 1, 29, 28, 40, 39, 23, 41, 20, 18, 12, 33, 3, 26, 11, 19, 15, 17, 16, 13, 36, 34, 14, 37, 32, 2, 22, 21, 8, 4, 6] \n",
            "\n",
            "\t****Encontrada mejor solucion: 3799 [0, 13, 39, 2, 28, 31, 32, 27, 5, 37, 36, 30, 4, 15, 19, 10, 23, 18, 8, 12, 6, 26, 24, 9, 17, 29, 3, 34, 33, 20, 7, 38, 22, 40, 41, 21, 11, 25, 16, 1, 35, 14] \n",
            "\n",
            "\t****Encontrada mejor solucion: 3792 [0, 3, 19, 14, 17, 32, 22, 8, 29, 28, 40, 9, 31, 33, 36, 23, 30, 2, 16, 41, 12, 13, 37, 15, 34, 1, 26, 18, 7, 20, 35, 24, 21, 5, 4, 11, 25, 6, 27, 10, 39, 38] \n",
            "\n",
            "\t****Encontrada mejor solucion: 3790 [0, 3, 19, 14, 17, 32, 22, 8, 29, 28, 40, 9, 38, 33, 36, 23, 30, 2, 16, 41, 12, 13, 37, 15, 34, 1, 26, 18, 7, 20, 35, 24, 21, 5, 4, 11, 25, 6, 27, 10, 39, 31] \n",
            "\n",
            "\t****Encontrada mejor solucion: 3761 [0, 3, 8, 30, 7, 36, 33, 2, 29, 15, 16, 20, 31, 28, 39, 10, 1, 19, 26, 23, 24, 21, 6, 9, 12, 14, 5, 18, 4, 27, 25, 13, 37, 17, 40, 41, 11, 35, 38, 22, 34, 32] \n",
            "\n",
            "\t****Encontrada mejor solucion: 3691 [0, 3, 34, 30, 36, 7, 33, 2, 29, 15, 16, 20, 31, 28, 6, 10, 1, 19, 26, 23, 24, 21, 39, 9, 12, 17, 5, 18, 4, 27, 25, 13, 37, 14, 40, 41, 11, 35, 38, 22, 8, 32] \n",
            "\n",
            "\t****Encontrada mejor solucion: 3566 [0, 41, 8, 38, 29, 18, 15, 16, 34, 20, 32, 24, 39, 25, 13, 19, 3, 26, 31, 33, 9, 21, 27, 4, 12, 30, 17, 2, 40, 11, 10, 23, 22, 14, 37, 36, 35, 6, 7, 5, 28, 1] \n",
            "\n",
            "\t****Encontrada mejor solucion: 3517 [0, 41, 8, 38, 29, 18, 15, 16, 34, 20, 32, 24, 39, 25, 13, 19, 3, 26, 31, 33, 9, 21, 27, 4, 12, 1, 17, 2, 40, 11, 10, 23, 22, 14, 37, 36, 35, 6, 7, 5, 28, 30] \n",
            "\n",
            "\t****Encontrada mejor solucion: 3492 [0, 1, 12, 23, 7, 13, 20, 33, 35, 17, 29, 2, 16, 37, 27, 26, 3, 19, 6, 15, 32, 31, 14, 18, 38, 40, 9, 25, 11, 41, 10, 8, 28, 34, 22, 24, 39, 21, 36, 30, 5, 4] \n",
            "\n",
            "\t****Encontrada mejor solucion: 3432 [0, 17, 31, 32, 18, 25, 29, 30, 7, 39, 10, 5, 13, 3, 33, 15, 19, 12, 9, 6, 36, 4, 11, 1, 26, 14, 16, 37, 35, 20, 24, 40, 23, 21, 41, 27, 8, 38, 22, 34, 28, 2] \n",
            "\n",
            "\t****Encontrada mejor solucion: 3378 [0, 17, 31, 32, 18, 25, 29, 30, 3, 39, 10, 19, 13, 7, 33, 15, 5, 12, 9, 35, 36, 27, 11, 1, 26, 14, 16, 37, 6, 20, 24, 40, 23, 21, 41, 4, 8, 38, 22, 34, 28, 2] \n",
            "\n",
            "\t****Encontrada mejor solucion: 3277 [0, 17, 31, 32, 18, 25, 29, 30, 3, 39, 10, 19, 13, 7, 33, 6, 5, 12, 9, 35, 36, 27, 11, 1, 26, 14, 16, 37, 15, 20, 24, 40, 23, 21, 41, 4, 8, 38, 22, 34, 28, 2] \n",
            "\n",
            "\t****Encontrada mejor solucion: 3202 [0, 17, 31, 32, 18, 25, 29, 30, 3, 39, 10, 19, 13, 7, 33, 6, 5, 1, 9, 35, 36, 27, 11, 12, 26, 14, 16, 37, 15, 20, 24, 40, 23, 21, 41, 4, 8, 38, 22, 34, 28, 2] \n",
            "\n",
            "\t****Encontrada mejor solucion: 3050 [0, 2, 29, 6, 8, 30, 27, 5, 13, 12, 15, 4, 10, 25, 11, 40, 21, 39, 24, 18, 26, 19, 14, 31, 1, 28, 41, 23, 9, 36, 16, 3, 22, 33, 20, 38, 32, 34, 35, 7, 37, 17] \n",
            "\n",
            "\t****Encontrada mejor solucion: 3002 [0, 40, 22, 38, 33, 2, 10, 11, 29, 41, 30, 24, 21, 23, 39, 8, 34, 32, 18, 25, 12, 4, 31, 14, 16, 13, 27, 1, 3, 6, 5, 26, 9, 28, 20, 15, 17, 35, 36, 37, 19, 7] \n",
            "\n",
            "\t****Encontrada mejor solucion: 2921 [0, 40, 22, 38, 33, 34, 10, 11, 29, 41, 30, 24, 21, 23, 39, 8, 2, 32, 18, 25, 12, 4, 31, 14, 16, 13, 27, 1, 3, 6, 5, 26, 9, 28, 20, 15, 17, 35, 36, 37, 19, 7] \n",
            "\n",
            "\t****Encontrada mejor solucion: 2826 [0, 29, 22, 38, 33, 34, 10, 11, 40, 41, 30, 24, 21, 23, 39, 8, 2, 32, 18, 25, 12, 4, 31, 14, 16, 13, 27, 1, 3, 6, 5, 26, 9, 28, 20, 15, 17, 35, 36, 37, 19, 7] \n",
            "\n",
            "\t****Encontrada mejor solucion: 2820 [0, 29, 22, 38, 33, 34, 39, 30, 40, 41, 11, 24, 21, 23, 10, 4, 2, 3, 18, 25, 12, 8, 31, 14, 16, 13, 27, 1, 32, 6, 5, 26, 9, 28, 15, 17, 20, 35, 36, 37, 19, 7] \n",
            "\n",
            "\t****Encontrada mejor solucion: 2813 [0, 30, 22, 38, 33, 34, 39, 29, 23, 41, 11, 24, 21, 40, 10, 4, 2, 3, 18, 26, 12, 8, 31, 14, 7, 13, 27, 1, 32, 6, 5, 25, 9, 28, 15, 17, 20, 35, 36, 37, 19, 16] \n",
            "\n",
            "\t****Encontrada mejor solucion: 2712 [0, 30, 22, 38, 33, 34, 39, 9, 23, 41, 11, 24, 21, 40, 10, 4, 2, 3, 18, 26, 12, 8, 31, 14, 7, 13, 27, 1, 32, 6, 5, 25, 29, 28, 15, 17, 20, 35, 36, 37, 19, 16] \n",
            "\n",
            "\t****Encontrada mejor solucion: 2683 [0, 30, 22, 38, 33, 34, 39, 9, 23, 41, 11, 24, 21, 40, 10, 4, 2, 3, 18, 26, 12, 8, 31, 7, 14, 13, 27, 1, 32, 6, 5, 28, 29, 25, 15, 17, 20, 35, 36, 37, 19, 16] \n",
            "\n",
            "\t****Encontrada mejor solucion: 2614 [0, 30, 22, 38, 33, 34, 39, 9, 23, 41, 11, 24, 21, 40, 8, 4, 2, 3, 18, 25, 12, 5, 31, 16, 14, 13, 27, 26, 32, 6, 10, 28, 29, 1, 15, 17, 20, 35, 36, 37, 19, 7] \n",
            "\n",
            "\t****Encontrada mejor solucion: 2592 [0, 30, 22, 38, 33, 34, 39, 9, 23, 41, 11, 24, 21, 40, 8, 4, 2, 3, 32, 25, 12, 5, 31, 16, 14, 13, 27, 26, 18, 6, 10, 28, 29, 1, 15, 17, 20, 35, 36, 37, 19, 7] \n",
            "\n",
            "\t****Encontrada mejor solucion: 2586 [0, 30, 22, 38, 33, 34, 39, 9, 23, 41, 4, 24, 21, 40, 8, 27, 2, 3, 1, 25, 26, 5, 31, 16, 14, 18, 12, 11, 13, 6, 10, 28, 29, 32, 15, 17, 20, 35, 36, 37, 19, 7] \n",
            "\n",
            "\t****Encontrada mejor solucion: 2557 [0, 30, 22, 38, 33, 34, 39, 9, 23, 41, 4, 24, 21, 40, 8, 27, 2, 3, 1, 25, 26, 5, 31, 16, 14, 18, 12, 11, 13, 6, 10, 28, 29, 32, 37, 17, 20, 35, 36, 15, 19, 7] \n",
            "\n",
            "\t****Encontrada mejor solucion: 2549 [0, 35, 36, 17, 1, 13, 18, 12, 22, 24, 39, 9, 40, 21, 8, 41, 25, 10, 11, 3, 4, 23, 2, 27, 28, 29, 30, 38, 33, 20, 31, 19, 26, 34, 6, 5, 14, 16, 37, 32, 7, 15] \n",
            "\n",
            "\t****Encontrada mejor solucion: 2486 [0, 35, 36, 17, 1, 13, 18, 12, 22, 24, 39, 21, 40, 9, 8, 41, 25, 10, 11, 6, 4, 23, 2, 27, 28, 29, 30, 38, 33, 20, 31, 19, 26, 34, 3, 5, 14, 16, 37, 32, 7, 15] \n",
            "\n",
            "\t****Encontrada mejor solucion: 2452 [0, 35, 36, 17, 1, 13, 18, 12, 22, 24, 39, 21, 40, 9, 8, 41, 25, 10, 11, 6, 4, 23, 2, 27, 28, 29, 30, 38, 33, 20, 31, 19, 26, 5, 3, 34, 14, 16, 37, 32, 7, 15] \n",
            "\n",
            "\t****Encontrada mejor solucion: 2449 [0, 31, 36, 17, 1, 13, 18, 23, 22, 24, 39, 21, 40, 9, 8, 41, 25, 12, 11, 6, 4, 3, 2, 27, 30, 29, 28, 38, 33, 20, 35, 19, 26, 5, 10, 34, 7, 37, 15, 32, 14, 16] \n",
            "\n",
            "\t****Encontrada mejor solucion: 2391 [0, 17, 36, 31, 10, 22, 38, 21, 8, 39, 24, 40, 23, 9, 41, 25, 18, 12, 5, 11, 2, 6, 3, 27, 30, 29, 28, 34, 33, 20, 35, 19, 13, 26, 4, 1, 15, 37, 7, 32, 14, 16] \n",
            "\n",
            "\t****Encontrada mejor solucion: 2356 [0, 35, 36, 31, 10, 22, 38, 21, 8, 39, 24, 40, 23, 9, 41, 25, 18, 12, 5, 11, 2, 6, 3, 27, 30, 29, 28, 34, 33, 20, 17, 19, 13, 26, 4, 1, 15, 37, 7, 32, 14, 16] \n",
            "\n",
            "\t****Encontrada mejor solucion: 2345 [0, 35, 36, 31, 10, 22, 38, 21, 8, 39, 24, 40, 23, 9, 41, 25, 4, 12, 18, 11, 2, 6, 3, 27, 30, 29, 28, 34, 33, 20, 17, 19, 13, 26, 5, 1, 15, 37, 7, 32, 14, 16] \n",
            "\n",
            "\t****Encontrada mejor solucion: 2312 [0, 17, 36, 35, 34, 28, 26, 6, 8, 23, 9, 40, 24, 21, 39, 29, 2, 3, 27, 1, 7, 19, 13, 18, 41, 10, 4, 11, 12, 5, 14, 16, 15, 37, 20, 33, 32, 38, 22, 30, 25, 31] \n",
            "\n",
            "\t****Encontrada mejor solucion: 2303 [0, 17, 36, 35, 33, 28, 26, 6, 8, 23, 9, 40, 24, 21, 39, 29, 2, 3, 27, 1, 7, 19, 13, 18, 41, 10, 4, 11, 12, 5, 14, 16, 15, 37, 20, 34, 32, 38, 22, 30, 25, 31] \n",
            "\n",
            "\t****Encontrada mejor solucion: 2291 [0, 17, 36, 35, 33, 28, 31, 6, 8, 23, 9, 40, 24, 21, 39, 29, 2, 3, 27, 1, 7, 19, 13, 18, 41, 10, 4, 11, 12, 5, 14, 16, 15, 37, 20, 34, 32, 38, 22, 30, 25, 26] \n",
            "\n",
            "\t****Encontrada mejor solucion: 2275 [0, 17, 36, 35, 33, 28, 31, 6, 8, 9, 23, 40, 24, 21, 39, 29, 2, 3, 27, 1, 7, 19, 13, 18, 41, 10, 4, 11, 12, 5, 14, 16, 15, 37, 20, 34, 32, 38, 22, 30, 25, 26] \n",
            "\n",
            "\t****Encontrada mejor solucion: 2255 [0, 2, 32, 33, 20, 34, 8, 27, 28, 10, 23, 24, 40, 21, 39, 9, 41, 25, 30, 6, 7, 17, 37, 16, 14, 5, 11, 18, 12, 13, 19, 26, 15, 36, 35, 31, 29, 38, 22, 4, 1, 3] \n",
            "\n",
            "\t****Encontrada mejor solucion: 2238 [0, 31, 33, 34, 20, 32, 2, 4, 29, 23, 41, 38, 22, 25, 10, 11, 12, 5, 6, 26, 1, 19, 14, 15, 16, 7, 3, 28, 8, 18, 13, 37, 17, 36, 35, 39, 21, 40, 24, 9, 30, 27] \n",
            "\n",
            "\t****Encontrada mejor solucion: 2217 [0, 31, 33, 34, 20, 32, 2, 4, 29, 23, 41, 38, 22, 25, 10, 11, 12, 5, 6, 1, 26, 19, 14, 15, 16, 7, 3, 28, 8, 18, 13, 37, 17, 36, 35, 39, 21, 40, 24, 9, 30, 27] \n",
            "\n",
            "\t****Encontrada mejor solucion: 2202 [0, 32, 33, 34, 20, 31, 2, 4, 41, 23, 29, 38, 22, 25, 10, 11, 12, 5, 6, 1, 13, 19, 14, 15, 16, 26, 3, 28, 8, 18, 7, 37, 17, 36, 35, 39, 24, 40, 21, 9, 30, 27] \n",
            "\n",
            "\t****Encontrada mejor solucion: 2193 [0, 3, 26, 5, 14, 19, 13, 18, 4, 30, 9, 41, 11, 25, 6, 23, 8, 29, 28, 32, 17, 15, 16, 37, 7, 1, 2, 27, 20, 34, 31, 36, 35, 33, 38, 22, 24, 40, 21, 39, 12, 10] \n",
            "\n",
            "\t****Encontrada mejor solucion: 2168 [0, 3, 26, 5, 14, 19, 13, 18, 4, 30, 9, 12, 11, 6, 25, 23, 8, 29, 28, 32, 37, 15, 16, 17, 7, 1, 2, 27, 20, 34, 31, 36, 35, 33, 38, 22, 24, 39, 21, 40, 41, 10] \n",
            "\n",
            "\t****Encontrada mejor solucion: 2142 [0, 3, 4, 5, 14, 19, 13, 18, 26, 30, 9, 12, 11, 6, 25, 23, 8, 29, 28, 32, 37, 15, 16, 17, 7, 1, 2, 27, 20, 34, 31, 36, 35, 33, 38, 22, 39, 24, 21, 40, 41, 10] \n",
            "\n",
            "\t****Encontrada mejor solucion: 2068 [0, 6, 4, 18, 14, 19, 13, 5, 26, 30, 41, 11, 10, 12, 25, 23, 8, 29, 28, 32, 37, 15, 16, 17, 7, 1, 2, 27, 20, 34, 31, 36, 35, 33, 38, 22, 39, 24, 21, 40, 9, 3] \n",
            "\n",
            "\t****Encontrada mejor solucion: 2033 [0, 6, 4, 18, 14, 19, 13, 5, 26, 30, 41, 11, 12, 10, 25, 23, 8, 29, 28, 32, 37, 15, 16, 17, 7, 1, 2, 27, 20, 34, 31, 36, 35, 33, 38, 22, 39, 24, 21, 40, 9, 3] \n",
            "\n",
            "\t****Encontrada mejor solucion: 2020 [0, 6, 13, 16, 37, 31, 5, 27, 2, 28, 29, 8, 25, 12, 11, 41, 23, 10, 18, 26, 19, 14, 15, 7, 3, 1, 32, 20, 33, 34, 35, 36, 17, 4, 22, 38, 39, 40, 24, 21, 9, 30] \n",
            "\n",
            "\t****Encontrada mejor solucion: 2018 [0, 6, 13, 16, 37, 31, 26, 27, 2, 28, 29, 8, 25, 12, 11, 23, 41, 10, 18, 5, 19, 14, 15, 4, 3, 1, 32, 20, 33, 34, 35, 36, 17, 7, 22, 38, 39, 40, 24, 21, 9, 30] \n",
            "\n",
            "\t****Encontrada mejor solucion: 1996 [0, 4, 13, 16, 37, 31, 26, 27, 2, 28, 29, 8, 25, 12, 11, 23, 41, 10, 18, 5, 19, 14, 15, 6, 3, 1, 32, 20, 33, 34, 35, 36, 17, 7, 38, 22, 39, 40, 24, 21, 9, 30] \n",
            "\n",
            "\t****Encontrada mejor solucion: 1985 [0, 4, 13, 16, 37, 31, 26, 27, 2, 28, 29, 8, 25, 12, 11, 23, 41, 10, 18, 5, 19, 14, 15, 6, 3, 1, 32, 20, 33, 34, 35, 36, 17, 7, 38, 22, 39, 24, 40, 21, 9, 30] \n",
            "\n",
            "\t****Encontrada mejor solucion: 1984 [0, 4, 13, 16, 37, 31, 26, 1, 2, 28, 29, 8, 25, 12, 11, 23, 41, 10, 18, 5, 19, 14, 15, 6, 3, 27, 32, 20, 33, 34, 35, 36, 17, 7, 38, 22, 39, 24, 40, 21, 9, 30] \n",
            "\n",
            "\t****Encontrada mejor solucion: 1977 [0, 4, 1, 27, 13, 6, 26, 3, 2, 28, 29, 8, 11, 12, 25, 23, 41, 10, 18, 5, 19, 16, 15, 31, 37, 14, 32, 20, 33, 34, 35, 36, 17, 7, 38, 22, 39, 24, 40, 21, 9, 30] \n",
            "\n",
            "\t****Encontrada mejor solucion: 1957 [0, 4, 27, 26, 13, 6, 1, 3, 2, 28, 29, 10, 11, 12, 25, 23, 41, 8, 18, 5, 19, 16, 15, 31, 37, 14, 32, 20, 33, 34, 35, 36, 17, 7, 22, 38, 39, 24, 40, 21, 9, 30] \n",
            "\n",
            "\t****Encontrada mejor solucion: 1956 [0, 6, 7, 35, 15, 14, 16, 1, 3, 4, 18, 12, 25, 41, 23, 9, 8, 10, 11, 26, 13, 19, 5, 37, 17, 31, 36, 33, 20, 34, 32, 29, 30, 2, 28, 22, 39, 40, 21, 24, 38, 27] \n",
            "\n",
            "\t****Encontrada mejor solucion: 1927 [0, 6, 7, 15, 14, 36, 37, 16, 13, 5, 11, 12, 25, 41, 23, 9, 8, 10, 18, 26, 19, 1, 4, 3, 17, 31, 35, 33, 20, 34, 32, 29, 27, 2, 28, 22, 38, 21, 40, 24, 39, 30] \n",
            "\n",
            "\t****Encontrada mejor solucion: 1921 [0, 6, 7, 15, 14, 36, 37, 16, 13, 26, 11, 12, 25, 41, 23, 9, 8, 10, 18, 5, 19, 1, 4, 3, 17, 31, 35, 33, 20, 34, 32, 29, 27, 2, 28, 22, 38, 21, 40, 24, 39, 30] \n",
            "\n",
            "\t****Encontrada mejor solucion: 1909 [0, 31, 36, 35, 37, 16, 15, 14, 17, 6, 18, 12, 10, 8, 9, 23, 41, 25, 11, 26, 19, 13, 5, 4, 3, 27, 38, 34, 33, 20, 32, 2, 28, 29, 30, 39, 24, 21, 40, 22, 7, 1] \n",
            "\n",
            "\t****Encontrada mejor solucion: 1875 [0, 31, 36, 35, 14, 16, 15, 37, 17, 1, 26, 25, 10, 23, 41, 9, 8, 11, 12, 18, 19, 13, 5, 4, 27, 2, 32, 34, 33, 20, 7, 6, 28, 29, 30, 24, 40, 21, 39, 22, 38, 3] \n",
            "\n",
            "\t****Encontrada mejor solucion: 1870 [0, 31, 36, 35, 14, 16, 15, 37, 7, 1, 26, 25, 10, 23, 41, 9, 8, 11, 12, 18, 19, 13, 5, 4, 27, 2, 32, 34, 33, 20, 17, 6, 28, 29, 30, 24, 40, 21, 39, 22, 38, 3] \n",
            "\n",
            "\t****Encontrada mejor solucion: 1861 [0, 31, 36, 35, 14, 16, 15, 37, 7, 1, 26, 25, 10, 23, 41, 9, 8, 11, 12, 18, 19, 13, 5, 4, 27, 2, 32, 34, 33, 20, 17, 6, 3, 29, 30, 24, 40, 21, 39, 22, 38, 28] \n",
            "\n",
            "\t****Encontrada mejor solucion: 1845 [0, 31, 36, 35, 15, 16, 14, 7, 37, 1, 6, 8, 10, 25, 23, 9, 41, 11, 12, 18, 5, 13, 19, 26, 4, 3, 32, 34, 33, 20, 17, 27, 2, 29, 39, 24, 40, 21, 22, 38, 30, 28] \n",
            "\n",
            "\t****Encontrada mejor solucion: 1829 [0, 31, 36, 35, 17, 14, 15, 16, 37, 6, 4, 25, 23, 41, 9, 8, 10, 12, 11, 18, 26, 19, 13, 5, 2, 27, 32, 20, 34, 33, 7, 1, 3, 28, 30, 24, 40, 21, 39, 22, 38, 29] \n",
            "\n",
            "\t****Encontrada mejor solucion: 1808 [0, 31, 36, 35, 17, 14, 15, 16, 37, 6, 4, 8, 23, 9, 41, 25, 10, 12, 11, 18, 26, 19, 13, 5, 2, 27, 32, 20, 34, 33, 7, 1, 3, 28, 30, 24, 40, 21, 39, 22, 38, 29] \n",
            "\n",
            "\t****Encontrada mejor solucion: 1762 [0, 31, 36, 35, 17, 37, 15, 16, 14, 6, 4, 8, 23, 9, 41, 25, 11, 12, 10, 18, 26, 19, 13, 5, 2, 27, 32, 20, 34, 33, 7, 1, 3, 28, 30, 24, 40, 21, 39, 22, 38, 29] \n",
            "\n",
            "\t****Encontrada mejor solucion: 1759 [0, 31, 35, 36, 17, 37, 15, 16, 14, 6, 4, 41, 25, 8, 9, 23, 10, 12, 11, 18, 26, 13, 19, 5, 2, 27, 32, 34, 33, 20, 7, 1, 3, 28, 30, 24, 40, 21, 39, 22, 38, 29] \n",
            "\n",
            "\t****Encontrada mejor solucion: 1735 [0, 17, 31, 35, 36, 14, 16, 15, 37, 7, 1, 10, 25, 41, 23, 9, 8, 11, 12, 18, 26, 5, 19, 13, 4, 3, 6, 34, 20, 33, 32, 27, 2, 30, 38, 22, 21, 24, 40, 39, 29, 28] \n",
            "\n",
            "\t****Encontrada mejor solucion: 1719 [0, 17, 31, 35, 36, 14, 16, 15, 37, 7, 1, 10, 25, 41, 23, 9, 8, 11, 12, 18, 26, 5, 19, 13, 4, 3, 6, 34, 33, 20, 32, 27, 2, 30, 38, 22, 21, 24, 40, 39, 29, 28] \n",
            "\n",
            "\t****Encontrada mejor solucion: 1717 [0, 17, 31, 35, 36, 14, 16, 15, 37, 7, 1, 10, 25, 41, 23, 9, 8, 11, 12, 18, 26, 5, 13, 19, 4, 3, 6, 34, 33, 20, 32, 27, 2, 30, 38, 22, 40, 24, 21, 39, 29, 28] \n",
            "\n",
            "\t****Encontrada mejor solucion: 1711 [0, 31, 36, 35, 17, 14, 16, 15, 37, 7, 1, 11, 25, 41, 23, 9, 8, 10, 12, 18, 5, 26, 13, 19, 6, 3, 4, 20, 33, 34, 32, 27, 2, 30, 38, 22, 21, 24, 40, 39, 29, 28] \n",
            "\n",
            "\t****Encontrada mejor solucion: 1699 [0, 31, 35, 36, 17, 14, 16, 15, 37, 7, 1, 10, 25, 41, 23, 9, 8, 11, 12, 18, 5, 26, 13, 19, 6, 3, 4, 20, 33, 34, 32, 27, 2, 30, 38, 22, 21, 24, 40, 39, 29, 28] \n",
            "\n",
            "\t****Encontrada mejor solucion: 1685 [0, 31, 35, 36, 17, 14, 16, 15, 37, 7, 4, 10, 25, 41, 23, 9, 8, 11, 12, 18, 5, 26, 13, 19, 6, 3, 1, 34, 33, 20, 32, 27, 2, 30, 38, 22, 39, 24, 40, 21, 29, 28] \n",
            "\n",
            "\t****Encontrada mejor solucion: 1684 [0, 31, 35, 36, 17, 14, 16, 15, 37, 7, 4, 10, 25, 41, 23, 9, 8, 11, 12, 18, 5, 26, 13, 19, 6, 3, 1, 34, 33, 20, 32, 27, 28, 30, 38, 22, 39, 24, 40, 21, 29, 2] \n",
            "\n",
            "\t****Encontrada mejor solucion: 1670 [0, 31, 35, 36, 17, 15, 16, 14, 37, 7, 4, 10, 25, 41, 23, 9, 8, 11, 12, 18, 26, 5, 13, 19, 6, 3, 1, 34, 33, 20, 32, 27, 28, 30, 38, 22, 39, 21, 40, 24, 29, 2] \n",
            "\n",
            "\t****Encontrada mejor solucion: 1665 [0, 31, 35, 36, 17, 15, 16, 14, 37, 7, 4, 10, 25, 41, 23, 9, 8, 11, 12, 18, 26, 19, 13, 5, 6, 1, 3, 34, 33, 20, 32, 27, 2, 30, 38, 22, 39, 21, 40, 24, 29, 28] \n",
            "\n",
            "\t****Encontrada mejor solucion: 1663 [0, 31, 35, 36, 17, 15, 16, 14, 37, 7, 4, 10, 25, 41, 23, 9, 8, 11, 12, 18, 26, 19, 13, 5, 6, 1, 3, 20, 33, 34, 32, 27, 2, 30, 38, 22, 39, 21, 40, 24, 29, 28] \n",
            "\n",
            "\t****Encontrada mejor solucion: 1649 [0, 17, 31, 35, 36, 15, 16, 14, 37, 7, 1, 10, 25, 41, 23, 9, 8, 11, 12, 18, 26, 13, 19, 5, 6, 4, 3, 34, 33, 20, 32, 27, 2, 30, 38, 22, 39, 24, 40, 21, 29, 28] \n",
            "\n",
            "\t****Encontrada mejor solucion: 1635 [0, 17, 31, 35, 36, 37, 16, 14, 15, 7, 1, 10, 25, 41, 23, 9, 8, 11, 12, 18, 26, 13, 19, 5, 6, 4, 3, 34, 33, 20, 32, 27, 2, 30, 38, 22, 39, 24, 40, 21, 29, 28] \n",
            "\n",
            "\t****Encontrada mejor solucion: 1634 [0, 17, 31, 35, 36, 37, 16, 14, 15, 7, 1, 10, 25, 41, 23, 9, 8, 11, 12, 18, 26, 13, 19, 5, 6, 4, 3, 34, 33, 20, 32, 27, 28, 30, 38, 22, 39, 24, 40, 21, 29, 2] \n",
            "\n",
            "\t****Encontrada mejor solucion: 1633 [0, 17, 31, 35, 36, 37, 14, 16, 15, 7, 1, 10, 25, 41, 23, 9, 8, 11, 12, 18, 26, 13, 19, 5, 6, 4, 3, 34, 33, 20, 32, 27, 28, 30, 38, 22, 39, 24, 40, 21, 29, 2] \n",
            "\n",
            "\t****Encontrada mejor solucion: 1632 [0, 17, 31, 35, 36, 37, 14, 16, 15, 7, 1, 11, 25, 41, 23, 9, 8, 10, 12, 18, 26, 13, 19, 5, 6, 4, 3, 34, 33, 20, 32, 27, 28, 30, 38, 22, 39, 24, 40, 21, 29, 2] \n",
            "\n",
            "\t****Encontrada mejor solucion: 1630 [0, 17, 31, 35, 36, 37, 15, 16, 14, 7, 1, 10, 8, 41, 23, 9, 25, 11, 12, 18, 26, 13, 19, 5, 6, 4, 3, 34, 33, 20, 32, 2, 28, 30, 38, 22, 39, 24, 40, 21, 29, 27] \n",
            "\n",
            "\t****Encontrada mejor solucion: 1628 [0, 17, 31, 35, 36, 37, 15, 16, 14, 7, 1, 10, 8, 41, 23, 9, 25, 11, 12, 18, 26, 13, 19, 5, 6, 4, 3, 34, 33, 20, 32, 27, 28, 30, 38, 22, 39, 24, 40, 21, 29, 2] \n",
            "\n",
            "\t****Encontrada mejor solucion: 1627 [0, 17, 31, 35, 36, 37, 15, 16, 14, 7, 1, 10, 8, 41, 23, 9, 25, 11, 12, 18, 26, 13, 19, 5, 6, 4, 3, 20, 33, 34, 32, 27, 2, 30, 38, 22, 39, 24, 40, 21, 29, 28] \n",
            "\n",
            "\t****Encontrada mejor solucion: 1616 [0, 17, 31, 35, 36, 37, 15, 16, 14, 7, 1, 8, 9, 41, 23, 10, 25, 11, 12, 18, 26, 13, 19, 5, 6, 4, 3, 20, 33, 34, 32, 27, 2, 30, 38, 22, 39, 24, 40, 21, 29, 28] \n",
            "\n",
            "\t****Encontrada mejor solucion: 1597 [0, 17, 31, 35, 36, 37, 15, 16, 14, 7, 1, 8, 9, 23, 41, 10, 25, 11, 12, 18, 26, 13, 19, 5, 6, 4, 3, 20, 33, 34, 32, 27, 2, 30, 38, 22, 39, 21, 40, 24, 29, 28] \n",
            "\n",
            "\t****Encontrada mejor solucion: 1593 [0, 17, 31, 35, 36, 37, 15, 16, 14, 7, 1, 8, 9, 23, 41, 10, 25, 11, 12, 18, 26, 13, 19, 5, 6, 4, 3, 20, 33, 34, 32, 2, 27, 30, 38, 22, 39, 24, 40, 21, 29, 28] \n",
            "\n",
            "\t****Encontrada mejor solucion: 1591 [0, 17, 31, 35, 36, 37, 15, 16, 14, 7, 1, 8, 9, 23, 41, 10, 25, 11, 12, 18, 26, 13, 19, 5, 6, 4, 3, 20, 33, 34, 32, 2, 28, 30, 38, 22, 39, 24, 40, 21, 29, 27] \n",
            "\n",
            "\t****Encontrada mejor solucion: 1589 [0, 17, 31, 35, 36, 37, 15, 16, 14, 7, 1, 8, 9, 23, 41, 10, 25, 11, 12, 18, 26, 13, 19, 5, 6, 4, 3, 20, 33, 34, 32, 27, 28, 30, 38, 22, 39, 24, 40, 21, 29, 2] \n",
            "\n",
            "La mejor solución encontrada es : 1589 [0, 17, 31, 35, 36, 37, 15, 16, 14, 7, 1, 8, 9, 23, 41, 10, 25, 11, 12, 18, 26, 13, 19, 5, 6, 4, 3, 20, 33, 34, 32, 27, 28, 30, 38, 22, 39, 24, 40, 21, 29, 2]\n"
          ],
          "name": "stdout"
        }
      ]
    },
    {
      "cell_type": "code",
      "metadata": {
        "id": "9v5C4b4i_LzZ",
        "colab_type": "code",
        "outputId": "02d24cb4-aa11-427d-d871-23794b264b64",
        "colab": {
          "base_uri": "https://localhost:8080/",
          "height": 50
        }
      },
      "source": [
        "#Algoritmo por colonia de hormigas:\n",
        "def Add_Nodo(problem, H ,T ) :\n",
        "  #Establecer una una funcion de probabilidad para \n",
        "  # añadir un nuevo nodo dependiendo de los nodos mas cercanos y de las feromonas depositadas\n",
        "  Nodos = list(problem.get_nodes())\n",
        "  return random.choice(   list(set(range(1,len(Nodos))) - set(H) )  )\n",
        "\n",
        "\n",
        "def Incrementa_Feromona(problem, T, H):\n",
        "  #Incrementar segun la calidad de la solución. Añadir una cantidad inversamente proporcional a la distancia total \n",
        "  for i in range(len(H)-1):\n",
        "    T[H[i]][H[i+1]] += 1000/distancia_total(H, problem)\n",
        "  return T\n",
        "\n",
        "def Evaporar_Feromonas(T):\n",
        "  #Podemos elegir diferentes funciones de evaporación dependiendo de la cantidad actual y de la suma total de feromonas depositadas,...\n",
        "  #Evapora 0.3 el valor de la feromona, sin que baje de 1\n",
        "  T = [[ max(T[i][j] - 0.3 , 1) for i in range(len(Nodos)) ] for j in range(len(Nodos))]\n",
        "  return T\n",
        "\n",
        "\n",
        "def hormigas(problem, N) :\n",
        "  #problem = datos del problema\n",
        "  #N = Número de agentes(hormigas)\n",
        "    \n",
        "  #Nodos\n",
        "  Nodos = list(problem.get_nodes())\n",
        "    #Aristas\n",
        "  Aristas = list(problem.get_edges()) \n",
        "  \n",
        "  #Inicializa las aristas con una cantidad inicial de feromonas:1\n",
        "  T = [[ 1 for _ in range(len(Nodos)) ] for _ in range(len(Nodos))]\n",
        "  \n",
        "  #Se generan los agentes(hormigas) que serán estructuras de caminos desde 0\n",
        "  Hormiga = [[0] for _ in range(N)]\n",
        "\n",
        "  #Recorre cada agente construyendo la solución\n",
        "  for h in range(N) :\n",
        "    #print(\"\\nAgente:\", h)\n",
        "    #Para cada agente se construye un camino\n",
        "    for i in range(len(Nodos)-1) :\n",
        "      \n",
        "      #Elige el siguiente nodo\n",
        "      Nuevo_Nodo = Add_Nodo(problem, Hormiga[h] ,T )\n",
        "      \n",
        "      Hormiga[h].append(Nuevo_Nodo)     \n",
        "    \n",
        "    #Incrementa feromonas en esa arista \n",
        "    T = Incrementa_Feromona(problem, T, Hormiga[h] )\n",
        "    #print(\"Feromonas(1)\", T)\n",
        "      \n",
        "    #Evapora Feromonas  \n",
        "    T = Evaporar_Feromonas(T)\n",
        "    #print(\"Feromonas(2)\", T)\n",
        "\n",
        "    #Seleccionamos el mejor agente\n",
        "  mejor_solucion = []\n",
        "  mejor_distancia = 10e100\n",
        "  for h in range(N) :\n",
        "    distancia_actual = distancia_total(Hormiga[h], problem)\n",
        "    if distancia_actual < mejor_distancia:\n",
        "      mejor_solucion = Hormiga[h]\n",
        "      mejor_distancia =distancia_actual\n",
        "  \n",
        "  \n",
        "  print(mejor_solucion)\n",
        "  print(mejor_distancia)\n",
        "\n",
        "hormigas(problem, 100)"
      ],
      "execution_count": 0,
      "outputs": [
        {
          "output_type": "stream",
          "text": [
            "[0, 31, 2, 11, 10, 3, 6, 18, 9, 33, 13, 37, 14, 32, 12, 4, 36, 17, 34, 20, 35, 27, 29, 7, 28, 39, 21, 23, 25, 40, 24, 5, 1, 30, 15, 19, 26, 38, 22, 8, 41, 16]\n",
            "3644\n"
          ],
          "name": "stdout"
        }
      ]
    },
    {
      "cell_type": "code",
      "metadata": {
        "id": "bj7J7CAoJcfo",
        "colab_type": "code",
        "colab": {}
      },
      "source": [
        ""
      ],
      "execution_count": 0,
      "outputs": []
    }
  ]
}